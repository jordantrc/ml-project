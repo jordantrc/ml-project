{
 "cells": [
  {
   "cell_type": "code",
   "execution_count": 78,
   "metadata": {
    "collapsed": false
   },
   "outputs": [],
   "source": [
    "# necessary libraries, functions, and constants\n",
    "import csv\n",
    "import itertools\n",
    "import math\n",
    "import matplotlib.pyplot as plt\n",
    "import numpy as np\n",
    "import pandas as pd\n",
    "import random\n",
    "from PIL import Image\n",
    "from sklearn import discriminant_analysis\n",
    "from sklearn import metrics\n",
    "from sklearn import model_selection\n",
    "from sklearn import neighbors\n",
    "\n",
    "labels = ['ocean', 'ship', 'sky']\n",
    "\n",
    "# this function taken from:\n",
    "# http://scikit-learn.org/stable/auto_examples/model_selection/plot_confusion_matrix.html\n",
    "def plot_confusion_matrix(cm, classes,\n",
    "                          normalize=True,\n",
    "                          title='Confusion matrix',\n",
    "                          cmap=plt.cm.Blues):\n",
    "    \"\"\"\n",
    "    This function prints and plots the confusion matrix.\n",
    "    Normalization can be applied by setting `normalize=True`.\n",
    "    \"\"\"\n",
    "    plt.imshow(cm, interpolation='nearest', cmap=cmap)\n",
    "    plt.title(title)\n",
    "    plt.colorbar()\n",
    "    tick_marks = np.arange(len(classes))\n",
    "    plt.xticks(tick_marks, classes, rotation=45)\n",
    "    plt.yticks(tick_marks, classes)\n",
    "\n",
    "    if normalize:\n",
    "        cm = cm.astype('float') / cm.sum(axis=1)[:, np.newaxis]\n",
    "        print(\"Normalized confusion matrix\")\n",
    "    else:\n",
    "        print('Confusion matrix, without normalization')\n",
    "\n",
    "    print(cm)\n",
    "\n",
    "    thresh = cm.max() * 0.75\n",
    "    for i, j in itertools.product(range(cm.shape[0]), range(cm.shape[1])):\n",
    "        plt.text(j, i, \"{0:.4f}\".format(cm[i, j]),\n",
    "                 horizontalalignment=\"center\",\n",
    "                 color=\"white\" if cm[i, j] > thresh else \"black\")\n",
    "\n",
    "    plt.tight_layout()\n",
    "    plt.ylabel('True label')\n",
    "    plt.xlabel('Predicted label')"
   ]
  },
  {
   "cell_type": "code",
   "execution_count": 42,
   "metadata": {
    "collapsed": false
   },
   "outputs": [
    {
     "name": "stdout",
     "output_type": "stream",
     "text": [
      "3347 observations\n",
      "Label counts:\n",
      "ocean - 504\n",
      "ship - 2347\n",
      "sky - 496\n"
     ]
    }
   ],
   "source": [
    "# import data from data.csv\n",
    "y = []\n",
    "X = []\n",
    "\n",
    "with open('data.csv', 'r') as csvfile:\n",
    "    data_reader = csv.reader(csvfile, dialect='excel')\n",
    "    for row in data_reader:\n",
    "        if len(row) > 0:\n",
    "            y.append(row[0])\n",
    "            X_float = [ float(x) for x in row[1:] ]\n",
    "            X.append(X_float)\n",
    "\n",
    "print(\"%s observations\" % (len(y)))\n",
    "assert len(X) == len(y)\n",
    "\n",
    "print(\"Label counts:\")\n",
    "for label in labels:\n",
    "    print(\"%s - %s\" % (label, y.count(label)))\n"
   ]
  },
  {
   "cell_type": "markdown",
   "metadata": {},
   "source": [
    "# K-Nearest Neighbors\n",
    "Inputs: number of neighbors, training and test sets\n",
    "\n",
    "Outputs: accuracy score, confusion matrix"
   ]
  },
  {
   "cell_type": "code",
   "execution_count": 79,
   "metadata": {
    "collapsed": false
   },
   "outputs": [
    {
     "name": "stdout",
     "output_type": "stream",
     "text": [
      "max k = 40\n",
      "k = 1, metric = (1, 0.75507765830346474, array([[143,  64,  44],\n",
      "       [113, 993,  57],\n",
      "       [ 90,  42, 128]]))\n",
      "k = 5, metric = (5, 0.77060931899641572, array([[ 138,   81,   32],\n",
      "       [ 107, 1029,   27],\n",
      "       [  83,   54,  123]]))\n",
      "k = 10, metric = (10, 0.77598566308243733, array([[ 134,   88,   29],\n",
      "       [ 100, 1042,   21],\n",
      "       [  73,   64,  123]]))\n",
      "k = 15, metric = (15, 0.77419354838709675, array([[ 132,   86,   33],\n",
      "       [ 105, 1044,   14],\n",
      "       [  66,   74,  120]]))\n",
      "k = 20, metric = (20, 0.77897252090800473, array([[ 127,   94,   30],\n",
      "       [  92, 1059,   12],\n",
      "       [  61,   81,  118]]))\n",
      "k = 25, metric = (25, 0.78255675029868577, array([[ 128,   97,   26],\n",
      "       [  77, 1074,   12],\n",
      "       [  60,   92,  108]]))\n",
      "k = 30, metric = (30, 0.77718040621266427, array([[ 114,  111,   26],\n",
      "       [  73, 1082,    8],\n",
      "       [  60,   95,  105]]))\n",
      "k = 35, metric = (35, 0.7700119474313023, array([[ 108,  114,   29],\n",
      "       [  67, 1087,    9],\n",
      "       [  60,  106,   94]]))\n"
     ]
    }
   ],
   "source": [
    "# record metrics for the cross-validated value - n-neighbors\n",
    "# format of knn_metrics is [index, neighbors, score, confusion matrix]\n",
    "# score is the mean accuracy and is provided by the score function of the classifier\n",
    "knn_metrics = pd.DataFrame(columns=('neighbors', 'score', 'confusion matrix'))\n",
    "\n",
    "# create training and test sets\n",
    "# first method - evenly split training and test set into two random sets\n",
    "# randomly select from the original data into even-sized training and test sets\n",
    "# using training/test set cross-validation, with equally sized training and test sets\n",
    "X_train, X_test, y_train, y_test = model_selection.train_test_split(X, y, test_size=0.5, random_state=0)\n",
    "\n",
    "def knn(k, X_train, y_train, X_test, y_test):\n",
    "    \"\"\"\n",
    "    Performs K-nearest Neighbors with provided parameters, returns a tuple containing\n",
    "    k, accuracy, precision, confusion matrix\n",
    "    \"\"\"\n",
    "    classifier = neighbors.KNeighborsClassifier(k, 'distance')\n",
    "    classifier.fit(X_train, y_train)\n",
    "    \n",
    "    y_prediction = classifier.predict(X_test)\n",
    "    cm = metrics.confusion_matrix(y_test, y_prediction, labels=labels)\n",
    "    score = classifier.score(X_test, y_test)\n",
    "    \n",
    "    metric = (k, score, cm)\n",
    "    return metric\n",
    "\n",
    "max_k = int(math.sqrt(len(X_train)))\n",
    "print(\"max k = \" + str(max_k))\n",
    "\n",
    "i = 0\n",
    "for k in range(1, max_k + 1):\n",
    "    metric = knn(k, X_train, y_train, X_test, y_test)\n",
    "    if k == 1 or k % 5 == 0:\n",
    "        print(\"k = %s, metric = %s\" % (k, metric))\n",
    "    knn_metrics.loc[i] = metric\n",
    "    i += 1\n"
   ]
  },
  {
   "cell_type": "code",
   "execution_count": 80,
   "metadata": {
    "collapsed": false
   },
   "outputs": [
    {
     "name": "stdout",
     "output_type": "stream",
     "text": [
      "    neighbors     score                                 confusion matrix\n",
      "0         1.0  0.755078   [[143, 64, 44], [113, 993, 57], [90, 42, 128]]\n",
      "1         2.0  0.755078   [[143, 64, 44], [113, 993, 57], [90, 42, 128]]\n",
      "2         3.0  0.768817  [[146, 71, 34], [110, 1010, 43], [81, 48, 131]]\n",
      "3         4.0  0.760454  [[140, 75, 36], [117, 1007, 39], [86, 48, 126]]\n",
      "4         5.0  0.770609  [[138, 81, 32], [107, 1029, 27], [83, 54, 123]]\n",
      "5         6.0  0.769415  [[141, 75, 35], [115, 1020, 28], [78, 55, 127]]\n",
      "6         7.0  0.770609  [[135, 79, 37], [110, 1030, 23], [80, 55, 125]]\n",
      "7         8.0  0.772401  [[132, 82, 37], [107, 1035, 21], [77, 57, 126]]\n",
      "8         9.0  0.771804  [[136, 81, 34], [111, 1030, 22], [71, 63, 126]]\n",
      "9        10.0  0.775986  [[134, 88, 29], [100, 1042, 21], [73, 64, 123]]\n",
      "10       11.0  0.775388  [[132, 88, 31], [100, 1045, 18], [70, 69, 121]]\n",
      "11       12.0  0.775986  [[135, 87, 29], [104, 1041, 18], [69, 68, 123]]\n",
      "12       13.0  0.774194  [[129, 89, 33], [102, 1047, 14], [66, 74, 120]]\n",
      "13       14.0  0.775388  [[131, 88, 32], [104, 1045, 14], [66, 72, 122]]\n",
      "14       15.0  0.774194  [[132, 86, 33], [105, 1044, 14], [66, 74, 120]]\n",
      "15       16.0  0.777180  [[133, 87, 31], [101, 1050, 12], [64, 78, 118]]\n",
      "16       17.0  0.773596  [[128, 92, 31], [103, 1048, 12], [65, 76, 119]]\n",
      "17       18.0  0.776583   [[128, 95, 28], [95, 1055, 13], [65, 78, 117]]\n",
      "18       19.0  0.772999  [[129, 93, 29], [100, 1051, 12], [63, 83, 114]]\n",
      "19       20.0  0.778973   [[127, 94, 30], [92, 1059, 12], [61, 81, 118]]\n",
      "20       21.0  0.774791   [[126, 97, 28], [97, 1055, 11], [63, 81, 116]]\n",
      "21       22.0  0.773596   [[124, 99, 28], [94, 1056, 13], [60, 85, 115]]\n",
      "22       23.0  0.781362   [[128, 96, 27], [84, 1067, 12], [60, 87, 113]]\n",
      "23       24.0  0.781362   [[128, 97, 26], [79, 1072, 12], [60, 92, 108]]\n",
      "24       25.0  0.782557   [[128, 97, 26], [77, 1074, 12], [60, 92, 108]]\n",
      "25       26.0  0.780167  [[123, 101, 27], [77, 1075, 11], [62, 90, 108]]\n",
      "26       27.0  0.783154  [[126, 101, 24], [76, 1076, 11], [62, 89, 109]]\n",
      "27       28.0  0.780765  [[121, 105, 25], [71, 1080, 12], [62, 92, 106]]\n",
      "28       29.0  0.780765   [[119, 106, 26], [72, 1083, 8], [62, 93, 105]]\n",
      "29       30.0  0.777180   [[114, 111, 26], [73, 1082, 8], [60, 95, 105]]\n",
      "30       31.0  0.778973   [[116, 108, 27], [69, 1087, 7], [61, 98, 101]]\n",
      "31       32.0  0.778973   [[115, 110, 26], [67, 1087, 9], [61, 97, 102]]\n",
      "32       33.0  0.772999   [[113, 110, 28], [70, 1083, 10], [63, 99, 98]]\n",
      "33       34.0  0.772999   [[111, 113, 27], [68, 1086, 9], [62, 101, 97]]\n",
      "34       35.0  0.770012   [[108, 114, 29], [67, 1087, 9], [60, 106, 94]]\n",
      "35       36.0  0.771207   [[105, 117, 29], [65, 1089, 9], [60, 103, 97]]\n",
      "36       37.0  0.772401  [[107, 116, 28], [65, 1087, 11], [58, 103, 99]]\n",
      "37       38.0  0.772401   [[108, 114, 29], [66, 1089, 8], [61, 103, 96]]\n",
      "38       39.0  0.771207   [[107, 115, 29], [66, 1088, 9], [59, 105, 96]]\n",
      "0     0.755078\n",
      "1     0.755078\n",
      "2     0.768817\n",
      "3     0.760454\n",
      "4     0.770609\n",
      "5     0.769415\n",
      "6     0.770609\n",
      "7     0.772401\n",
      "8     0.771804\n",
      "9     0.775986\n",
      "10    0.775388\n",
      "11    0.775986\n",
      "12    0.774194\n",
      "13    0.775388\n",
      "14    0.774194\n",
      "15    0.777180\n",
      "16    0.773596\n",
      "17    0.776583\n",
      "18    0.772999\n",
      "19    0.778973\n",
      "20    0.774791\n",
      "21    0.773596\n",
      "22    0.781362\n",
      "23    0.781362\n",
      "24    0.782557\n",
      "25    0.780167\n",
      "26    0.783154\n",
      "27    0.780765\n",
      "28    0.780765\n",
      "29    0.777180\n",
      "30    0.778973\n",
      "31    0.778973\n",
      "32    0.772999\n",
      "33    0.772999\n",
      "34    0.770012\n",
      "35    0.771207\n",
      "36    0.772401\n",
      "37    0.772401\n",
      "38    0.771207\n",
      "Name: score, dtype: float64\n",
      "best mean accuracy = 0.783154121864 @ k = 27.0\n"
     ]
    }
   ],
   "source": [
    "print(knn_metrics)\n",
    "print(knn_metrics['score'])\n",
    "\n",
    "max_accuracy = knn_metrics.loc[knn_metrics['score'].idxmax()]\n",
    "print(\"best mean accuracy = %s @ k = %s\" % (max_accuracy['score'], max_accuracy['neighbors']))\n"
   ]
  },
  {
   "cell_type": "code",
   "execution_count": 81,
   "metadata": {
    "collapsed": false
   },
   "outputs": [
    {
     "name": "stdout",
     "output_type": "stream",
     "text": [
      "Normalized confusion matrix\n",
      "[[ 0.50199203  0.40239044  0.09561753]\n",
      " [ 0.06534824  0.92519347  0.0094583 ]\n",
      " [ 0.23846154  0.34230769  0.41923077]]\n"
     ]
    },
    {
     "data": {
      "image/png": "[encoded data removed]",
      "text/plain": [
       "<matplotlib.figure.Figure at 0x262edadf1d0>"
      ]
     },
     "metadata": {},
     "output_type": "display_data"
    }
   ],
   "source": [
    "plot_confusion_matrix(max_accuracy['confusion matrix'], \n",
    "                      labels, \n",
    "                      title='Confusion matrix for k=%s' % (int(max_accuracy['neighbors'])))\n",
    "plt.show()"
   ]
  },
  {
   "cell_type": "code",
   "execution_count": 84,
   "metadata": {
    "collapsed": false
   },
   "outputs": [
    {
     "data": {
      "image/png": "[encoded data removed]",
      "text/plain": [
       "<matplotlib.figure.Figure at 0x262edbbce80>"
      ]
     },
     "metadata": {},
     "output_type": "display_data"
    }
   ],
   "source": [
    "plt.plot(range(1, max_k), knn_metrics['score'], label='accuracy')\n",
    "plt.title(\"Accuracy for different values of k\")\n",
    "plt.xlabel(\"k\")\n",
    "plt.ylabel(\"mean accuracy\")\n",
    "plt.show()"
   ]
  },
  {
   "cell_type": "markdown",
   "metadata": {},
   "source": [
    "# LDA and QDA\n",
    "Variables: N/A\n",
    "\n",
    "Output: accuracy score, confusion matrix"
   ]
  },
  {
   "cell_type": "code",
   "execution_count": 76,
   "metadata": {
    "collapsed": false
   },
   "outputs": [
    {
     "name": "stderr",
     "output_type": "stream",
     "text": [
      "C:\\ProgramData\\Anaconda3\\lib\\site-packages\\sklearn\\discriminant_analysis.py:387: UserWarning: Variables are collinear.\n",
      "  warnings.warn(\"Variables are collinear.\")\n"
     ]
    },
    {
     "name": "stdout",
     "output_type": "stream",
     "text": [
      "LDA Results:\n",
      "accuracy = 0.554360812425\n",
      "confusion matrix = \n",
      "[[106  86  59]\n",
      " [253 732 178]\n",
      " [ 78  92  90]]\n",
      "Normalized confusion matrix\n",
      "[[ 0.42231076  0.34262948  0.23505976]\n",
      " [ 0.21754084  0.62940671  0.15305245]\n",
      " [ 0.3         0.35384615  0.34615385]]\n"
     ]
    },
    {
     "data": {
      "image/png": "[encoded data removed]",
      "text/plain": [
       "<matplotlib.figure.Figure at 0x262edb24b38>"
      ]
     },
     "metadata": {},
     "output_type": "display_data"
    }
   ],
   "source": [
    "# response has to be numeric for LDA and QDA\n",
    "y_train_numeric = []\n",
    "y_test_numeric = []\n",
    "for label in y_train:\n",
    "    y_train_numeric.append(labels.index(label))\n",
    "\n",
    "for label in y_test_numeric:\n",
    "    y_test_numeric.append(labels.index(label))\n",
    "\n",
    "# LDA\n",
    "    \n",
    "#print(y_train_numeric[:5])\n",
    "#print(X_train[:5])\n",
    "classifier = discriminant_analysis.LinearDiscriminantAnalysis()\n",
    "classifier.fit(X_train, y_train_numeric)\n",
    "\n",
    "y_prediction = []\n",
    "y_prediction_num = classifier.predict(X_test)\n",
    "for pred in y_prediction_num:\n",
    "    y_prediction.append(labels[pred])\n",
    "\n",
    "cm = metrics.confusion_matrix(y_test, y_prediction, labels=labels)\n",
    "accuracy = metrics.accuracy_score(y_test, y_prediction, normalize=True)\n",
    "\n",
    "print(\"LDA Results:\")\n",
    "print(\"accuracy = \" + str(accuracy))\n",
    "print(\"confusion matrix = \")\n",
    "print(cm)\n",
    "\n",
    "plot_confusion_matrix(cm, labels, title=\"LDA Confusion Matrix\")\n",
    "plt.show()"
   ]
  },
  {
   "cell_type": "code",
   "execution_count": 77,
   "metadata": {
    "collapsed": false
   },
   "outputs": [
    {
     "name": "stderr",
     "output_type": "stream",
     "text": [
      "C:\\ProgramData\\Anaconda3\\lib\\site-packages\\sklearn\\discriminant_analysis.py:695: UserWarning: Variables are collinear\n",
      "  warnings.warn(\"Variables are collinear\")\n"
     ]
    },
    {
     "name": "stdout",
     "output_type": "stream",
     "text": [
      "QDA Results:\n",
      "accuracy = 0.58064516129\n",
      "confusion matrix = \n",
      "[[ 48 172  31]\n",
      " [168 885 110]\n",
      " [ 54 167  39]]\n",
      "Normalized confusion matrix\n",
      "[[ 0.19123506  0.68525896  0.12350598]\n",
      " [ 0.144454    0.76096303  0.09458298]\n",
      " [ 0.20769231  0.64230769  0.15      ]]\n"
     ]
    },
    {
     "data": {
      "image/png": "[encoded data removed]",
      "text/plain": [
       "<matplotlib.figure.Figure at 0x262ea26e9b0>"
      ]
     },
     "metadata": {},
     "output_type": "display_data"
    }
   ],
   "source": [
    "# QDA\n",
    "classifier = discriminant_analysis.QuadraticDiscriminantAnalysis()\n",
    "classifier.fit(X_train, y_train_numeric)\n",
    "\n",
    "y_prediction = []\n",
    "y_prediction_num = classifier.predict(X_test)\n",
    "for pred in y_prediction_num:\n",
    "    y_prediction.append(labels[pred])\n",
    "\n",
    "cm = metrics.confusion_matrix(y_test, y_prediction, labels=labels)\n",
    "accuracy = metrics.accuracy_score(y_test, y_prediction, normalize=True)\n",
    "\n",
    "print(\"QDA Results:\")\n",
    "print(\"accuracy = \" + str(accuracy))\n",
    "print(\"confusion matrix = \")\n",
    "print(cm)\n",
    "\n",
    "plot_confusion_matrix(cm, labels, title=\"QDA Confusion Matrix\")\n",
    "plt.show()"
   ]
  },
  {
   "cell_type": "markdown",
   "metadata": {
    "collapsed": true
   },
   "source": [
    "# Convolutional Neural Network\n",
    "Inputs:\n",
    "\n",
    "Outputs:\n"
   ]
  },
  {
   "cell_type": "code",
   "execution_count": null,
   "metadata": {
    "collapsed": true
   },
   "outputs": [],
   "source": []
  }
 ],
 "metadata": {
  "kernelspec": {
   "display_name": "Python 3",
   "language": "python",
   "name": "python3"
  },
  "language_info": {
   "codemirror_mode": {
    "name": "ipython",
    "version": 3
   },
   "file_extension": ".py",
   "mimetype": "text/x-python",
   "name": "python",
   "nbconvert_exporter": "python",
   "pygments_lexer": "ipython3",
   "version": "3.6.0"
  }
 },
 "nbformat": 4,
 "nbformat_minor": 0
}
