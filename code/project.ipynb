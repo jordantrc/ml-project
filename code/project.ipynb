{
 "cells": [
  {
   "cell_type": "code",
   "execution_count": 38,
   "metadata": {
    "collapsed": false
   },
   "outputs": [],
   "source": [
    "# necessary libraries, functions, and constants\n",
    "import os\n",
    "import numpy as np\n",
    "import random\n",
    "from PIL import Image\n",
    "from sklearn import cross_validation\n",
    "from sklearn import metrics\n",
    "from sklearn import neighbors\n",
    "\n",
    "IMAGE_SIZE = (32, 32)\n",
    "labels = ['ocean', 'ship', 'sky']\n",
    "\n",
    "def normalize_rgb(r, g, b):\n",
    "    \"\"\"takes an input between 1 and 255 and returns a \n",
    "    value between 0 and 1\"\"\"\n",
    "    return (r/255.0, g/255.0, b/255.0)\n",
    "\n",
    "def extract_features_labels(file_list):\n",
    "    \"\"\"trains the classifier given a set of files\"\"\"\n",
    "    # X contains the features, Y contains the classes\n",
    "    X = []\n",
    "    Y = []\n",
    "    \n",
    "    # train on the file_list\n",
    "    for file in file_list:\n",
    "        # metadata\n",
    "        label, dataset_name, dataset_index = file.split(\"_\") # class_dataset_index.extension\n",
    "        dataset_index, extension = dataset_index.split(\".\") # index.extension\n",
    "        #print(\"%s %s %s\" % (classification, dataset_name, dataset_index))\n",
    "\n",
    "        # set the classifier\n",
    "        Y.append(label)\n",
    "\n",
    "        path = image_dir + \"/\" + file\n",
    "        im = Image.open(path)\n",
    "        im = im.resize(IMAGE_SIZE, resample=Image.LANCZOS)\n",
    "\n",
    "        # get the rgb color components of all pixels\n",
    "        image_features = []\n",
    "        for x in range(0,IMAGE_SIZE[0]):\n",
    "            for y in range(0,IMAGE_SIZE[1]):\n",
    "                r, g, b = im.getpixel((x, y))\n",
    "                r, g, b = normalize_rgb(r, g, b)\n",
    "                image_features.extend([r, g, b])\n",
    "        X.append(image_features)\n",
    "\n",
    "        #print(\"%s %s %s\" % (r, g, b))\n",
    "\n",
    "        new_name = (\"%s_%s_%s.%s\" % (label, dataset_name, dataset_index, \"png\"))\n",
    "\n",
    "        im.save(tmp_dir + \"/\" + new_name, \"PNG\")\n",
    "    \n",
    "    return X, Y   "
   ]
  },
  {
   "cell_type": "code",
   "execution_count": 39,
   "metadata": {
    "collapsed": false
   },
   "outputs": [
    {
     "name": "stdout",
     "output_type": "stream",
     "text": [
      "cwd = C:\\Users\\jchadwick\\Documents\\ml-project\\code\n",
      "image_dir = ../images/combined\n",
      "tmp_dir = ../images/tmp\n"
     ]
    }
   ],
   "source": [
    "# directory structure\n",
    "cwd = os.getcwd()\n",
    "image_dir = \"../images/combined\"\n",
    "tmp_dir = \"../images/tmp\"\n",
    "print(\"cwd = \" + cwd)\n",
    "print(\"image_dir = \" + image_dir)\n",
    "print(\"tmp_dir = \" + tmp_dir)\n",
    "\n",
    "if not os.path.exists(tmp_dir):\n",
    "    os.mkdir(tmp_dir)"
   ]
  },
  {
   "cell_type": "code",
   "execution_count": 40,
   "metadata": {
    "collapsed": false
   },
   "outputs": [
    {
     "name": "stdout",
     "output_type": "stream",
     "text": [
      "3347 observations\n",
      "Label counts:\n",
      "ocean - 504\n",
      "ship - 2347\n",
      "sky - 496\n"
     ]
    }
   ],
   "source": [
    "# process images, create labels and features\n",
    "files = os.listdir(image_dir)\n",
    "\n",
    "X, y = extract_features_labels(files)\n",
    "\n",
    "\n",
    "# some stats about the dataset\n",
    "print(\"%s observations\" % (len(y)))\n",
    "\n",
    "print(\"Label counts:\")\n",
    "for label in labels:\n",
    "    print(\"%s - %s\" % (label, y.count(label)))\n"
   ]
  },
  {
   "cell_type": "code",
   "execution_count": 47,
   "metadata": {
    "collapsed": false
   },
   "outputs": [
    {
     "name": "stdout",
     "output_type": "stream",
     "text": [
      "[{'cm': array([[143,  64,  44],\n",
      "       [113, 993,  57],\n",
      "       [ 90,  42, 128]]), 'precision': 0.75507765830346474, 'n_neighbors': 1, 'accuracy': 0.75507765830346474}, {'cm': array([[143,  64,  44],\n",
      "       [113, 993,  57],\n",
      "       [ 90,  42, 128]]), 'precision': 0.75507765830346474, 'n_neighbors': 2, 'accuracy': 0.75507765830346474}, {'cm': array([[ 146,   71,   34],\n",
      "       [ 110, 1010,   43],\n",
      "       [  81,   48,  131]]), 'precision': 0.76881720430107525, 'n_neighbors': 3, 'accuracy': 0.76881720430107525}, {'cm': array([[ 140,   75,   36],\n",
      "       [ 117, 1007,   39],\n",
      "       [  86,   48,  126]]), 'precision': 0.76045400238948624, 'n_neighbors': 4, 'accuracy': 0.76045400238948624}, {'cm': array([[ 138,   81,   32],\n",
      "       [ 107, 1029,   27],\n",
      "       [  83,   54,  123]]), 'precision': 0.77060931899641572, 'n_neighbors': 5, 'accuracy': 0.77060931899641572}, {'cm': array([[ 141,   75,   35],\n",
      "       [ 115, 1020,   28],\n",
      "       [  78,   55,  127]]), 'precision': 0.76941457586618878, 'n_neighbors': 6, 'accuracy': 0.76941457586618878}, {'cm': array([[ 135,   79,   37],\n",
      "       [ 110, 1030,   23],\n",
      "       [  80,   55,  125]]), 'precision': 0.77060931899641572, 'n_neighbors': 7, 'accuracy': 0.77060931899641572}, {'cm': array([[ 132,   82,   37],\n",
      "       [ 107, 1035,   21],\n",
      "       [  77,   57,  126]]), 'precision': 0.77240143369175629, 'n_neighbors': 8, 'accuracy': 0.77240143369175629}, {'cm': array([[ 136,   81,   34],\n",
      "       [ 111, 1030,   22],\n",
      "       [  71,   63,  126]]), 'precision': 0.77180406212664276, 'n_neighbors': 9, 'accuracy': 0.77180406212664276}, {'cm': array([[ 134,   88,   29],\n",
      "       [ 100, 1042,   21],\n",
      "       [  73,   64,  123]]), 'precision': 0.77598566308243733, 'n_neighbors': 10, 'accuracy': 0.77598566308243733}]\n"
     ]
    }
   ],
   "source": [
    "# K-NN\n",
    "#\n",
    "# inputs:\n",
    "# number of neighbors\n",
    "#\n",
    "# output metrics:\n",
    "# confusion matrix\n",
    "# normalized accuracy score\n",
    "# precision score\n",
    "# area under the ROC curve\n",
    "\n",
    "# record metrics for the cross-validated value - n-neighbors\n",
    "# format of knn_metrics is [neighbors, accuracy, precision, confusion matrix] \n",
    "knn_metrics = []\n",
    "\n",
    "for n_neighbors in range(1, 11):\n",
    "    # create training and test sets\n",
    "    # first method - evenly split training and test set into two random sets\n",
    "    # randomly select from the original data into even-sized training and test sets\n",
    "    X_train, X_test, y_train, y_test = cross_validation.train_test_split(X, y, test_size=0.5, random_state=0)\n",
    "    classifier = neighbors.KNeighborsClassifier(n_neighbors, 'distance')\n",
    "    classifier.fit(X_train, y_train)\n",
    "    y_prediction = classifier.predict(X_test)\n",
    "\n",
    "    cm = metrics.confusion_matrix(y_test, y_prediction, labels=labels)\n",
    "    accuracy = metrics.accuracy_score(y_test, y_prediction, normalize=True)\n",
    "    precision = metrics.precision_score(y_test, y_prediction, average='micro')\n",
    "    \n",
    "    knn_metrics.append({'n_neighbors': n_neighbors, 'accuracy': accuracy, 'precision': precision, 'cm': cm})\n",
    "\n",
    "print(knn_metrics)\n",
    "\n",
    "# second method - Stratified k-folds\n",
    "\n",
    "\n",
    "# third method - LOOCV\n"
   ]
  },
  {
   "cell_type": "code",
   "execution_count": 18,
   "metadata": {
    "collapsed": false
   },
   "outputs": [
    {
     "name": "stdout",
     "output_type": "stream",
     "text": [
      "['ocean']\n",
      "ocean\n"
     ]
    },
    {
     "name": "stderr",
     "output_type": "stream",
     "text": [
      "C:\\Anaconda3\\lib\\site-packages\\sklearn\\utils\\validation.py:386: DeprecationWarning: Passing 1d arrays as data is deprecated in 0.17 and willraise ValueError in 0.19. Reshape your data either using X.reshape(-1, 1) if your data has a single feature or X.reshape(1, -1) if it contains a single sample.\n",
      "  DeprecationWarning)\n"
     ]
    }
   ],
   "source": [
    "# create the classifier\n",
    "n_neighbors = 5\n",
    "classifier = neighbors.KNeighborsClassifier(n_neighbors, 'distance')\n",
    "classifier.fit(X[:5], Y[:5])\n",
    "\n",
    "# predict the test set\n",
    "print(classifier.predict(X[6]))\n",
    "print(Y[6])\n"
   ]
  },
  {
   "cell_type": "code",
   "execution_count": null,
   "metadata": {
    "collapsed": true
   },
   "outputs": [],
   "source": []
  }
 ],
 "metadata": {
  "kernelspec": {
   "display_name": "Python 3",
   "language": "python",
   "name": "python3"
  },
  "language_info": {
   "codemirror_mode": {
    "name": "ipython",
    "version": 3
   },
   "file_extension": ".py",
   "mimetype": "text/x-python",
   "name": "python",
   "nbconvert_exporter": "python",
   "pygments_lexer": "ipython3",
   "version": "3.5.2"
  }
 },
 "nbformat": 4,
 "nbformat_minor": 0
}
