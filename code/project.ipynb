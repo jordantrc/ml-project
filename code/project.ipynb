{
 "cells": [
  {
   "cell_type": "code",
   "execution_count": 2,
   "metadata": {
    "collapsed": true
   },
   "outputs": [],
   "source": [
    "# necessary libraries, functions, and constants\n",
    "import csv\n",
    "import itertools\n",
    "import math\n",
    "import matplotlib.pyplot as plt\n",
    "import numpy as np\n",
    "import pandas as pd\n",
    "import random\n",
    "import tensorflow as tf\n",
    "from PIL import Image\n",
    "from sklearn import discriminant_analysis\n",
    "from sklearn import metrics\n",
    "from sklearn import model_selection\n",
    "from sklearn import neighbors\n",
    "from timeit import default_timer as timer\n",
    "\n",
    "classes = ['ocean', 'ship', 'sky']\n",
    "\n",
    "# options\n",
    "oversample = False\n",
    "\n",
    "# this function taken from:\n",
    "# http://scikit-learn.org/stable/auto_examples/model_selection/plot_confusion_matrix.html\n",
    "def plot_confusion_matrix(cm, classes,\n",
    "                          normalize=True,\n",
    "                          title='Confusion matrix',\n",
    "                          cmap=plt.cm.Blues):\n",
    "    \"\"\"\n",
    "    This function prints and plots the confusion matrix.\n",
    "    Normalization can be applied by setting `normalize=True`.\n",
    "    \"\"\"\n",
    "    plt.imshow(cm, interpolation='nearest', cmap=cmap)\n",
    "    plt.title(title)\n",
    "    plt.colorbar()\n",
    "    tick_marks = np.arange(len(classes))\n",
    "    plt.xticks(tick_marks, classes, rotation=45)\n",
    "    plt.yticks(tick_marks, classes)\n",
    "\n",
    "    if normalize:\n",
    "        cm = cm.astype('float') / cm.sum(axis=1)[:, np.newaxis]\n",
    "        print(\"Normalized confusion matrix\")\n",
    "    else:\n",
    "        print('Confusion matrix, without normalization')\n",
    "\n",
    "    print(cm)\n",
    "\n",
    "    thresh = cm.max() * 0.75\n",
    "    for i, j in itertools.product(range(cm.shape[0]), range(cm.shape[1])):\n",
    "        plt.text(j, i, \"{0:.4f}\".format(cm[i, j]),\n",
    "                 horizontalalignment=\"center\",\n",
    "                 color=\"white\" if cm[i, j] > thresh else \"black\")\n",
    "\n",
    "    plt.tight_layout()\n",
    "    plt.ylabel('True class')\n",
    "    plt.xlabel('Predicted class')\n",
    "\n",
    "    \n",
    "def oversample(X, y, cl, largest_class):\n",
    "    \"\"\"\n",
    "    returns new X and y lists with oversampling\n",
    "    \"\"\"\n",
    "    X_new = list(X)\n",
    "    y_new = list(y)\n",
    "    \n",
    "    # first count each class in y\n",
    "    class_count = y.count(cl)\n",
    "    obs_add = largest_class - class_count\n",
    "    print(\"oversample - %s samples with %s class in y, adding %s observations\" % (class_count, cl, obs_add))\n",
    "    \n",
    "    # keep adding samples for the class\n",
    "    obs_added = 0\n",
    "    class_index = 0\n",
    "    all_in_class = [i for i, x in enumerate(y) if x == cl ] # => [1, 4, 6], all indexes for the class\n",
    "    assert len(all_in_class) > 0\n",
    "    \n",
    "    # take observations from the class sequentially, looping around when off the end\n",
    "    while obs_added < obs_add:\n",
    "        index = all_in_class[class_index]\n",
    "        \n",
    "        y_new.append(y[index])\n",
    "        X_new.append(X[index])\n",
    "        \n",
    "        obs_added += 1\n",
    "        \n",
    "        class_index += 1\n",
    "        if class_index >= len(all_in_class):\n",
    "            class_index = 0\n",
    "    \n",
    "    return X_new, y_new\n",
    "\n",
    "\n",
    "def next_batch(X, y, offset, step):\n",
    "    \"\"\"\n",
    "    returns a batch of observations and new offset, given offset and step\n",
    "    if the batch will run off the end, loops back around\n",
    "    \"\"\"\n",
    "    X_batch = []\n",
    "    y_batch = []\n",
    "    \n",
    "    assert len(X) == len(y)\n",
    "    \n",
    "    if offset + step >= len(X):\n",
    "        new_offset = offset + step - len(X)\n",
    "        X_batch = list(X[offset:])\n",
    "        X_batch.extend(list(X[:new_offset]))\n",
    "        y_batch = list(y[offset:])\n",
    "        y_batch.extend(list(y[:new_offset]))\n",
    "    else:\n",
    "        new_offset = offset + step\n",
    "        X_batch = X[offset:offset + step]\n",
    "        y_batch = y[offset:offset + step]\n",
    "    \n",
    "    return X_batch, y_batch, new_offset\n",
    "\n",
    "\n",
    "def one_hot(y, classes):\n",
    "    \"\"\"\n",
    "    takes as input a list of response values as strings, returns\n",
    "    a one-hot matrix given the class ordering provided, and the map\n",
    "    to return the index to classes\n",
    "    \"\"\"\n",
    "    class_map = {}\n",
    "    for i, cl in enumerate(classes):\n",
    "        class_map[i] = cl\n",
    "        \n",
    "    one_hot_matrix = []\n",
    "    for response in y:\n",
    "        row = [0] * len(classes)\n",
    "        row[classes.index(response)] = 1\n",
    "        one_hot_matrix.append(row)\n",
    "    \n",
    "    one_hot_matrix = np.array(one_hot_matrix)\n",
    "    return one_hot_matrix, class_map\n",
    "    "
   ]
  },
  {
   "cell_type": "code",
   "execution_count": 3,
   "metadata": {
    "collapsed": false
   },
   "outputs": [
    {
     "name": "stdout",
     "output_type": "stream",
     "text": [
      "3072 features\n",
      "Raw observations:\n",
      "3347 observations\n",
      "Class counts:\n",
      "sky - 496\n",
      "ocean - 504\n",
      "ship - 2347\n"
     ]
    }
   ],
   "source": [
    "# import data from data.csv\n",
    "y = []\n",
    "X = []\n",
    "y_numeric = []\n",
    "\n",
    "with open('data.csv', 'r') as csvfile:\n",
    "    data_reader = csv.reader(csvfile, dialect='excel')\n",
    "    for row in data_reader:\n",
    "        if len(row) > 0:\n",
    "            y.append(row[0])\n",
    "            X_float = [ float(x) for x in row[1:] ]\n",
    "            X.append(X_float)\n",
    "\n",
    "# create a y_numeric for use with tensorflow\n",
    "for obs in y:\n",
    "    y_numeric.append(classes.index(obs))\n",
    "\n",
    "assert len(X) == len(y) == len(y_numeric)\n",
    "    \n",
    "# convert to np.array objects\n",
    "y = np.array(y)\n",
    "y_numeric = np.array(y_numeric)\n",
    "X = np.array(X)\n",
    "\n",
    "# how many features?\n",
    "num_features = len(X[0])\n",
    "print(\"%s features\" % (num_features))\n",
    "\n",
    "# count the classes\n",
    "largest_class = \"none\"\n",
    "largest_class_count = -1\n",
    "\n",
    "unique, counts = np.unique(y, return_counts=True)\n",
    "class_counts = dict(zip(unique, counts))\n",
    "\n",
    "for key in class_counts.keys():\n",
    "    count = class_counts[key]\n",
    "    if count > largest_class_count:\n",
    "        largest_class_count = count\n",
    "        largest_class = key\n",
    "\n",
    "#for cl in classes:\n",
    "#    c = y.count(cl)\n",
    "#    \n",
    "#    if c > largest_class_count:\n",
    "#        largest_class_count = c\n",
    "#        largest_class = cl\n",
    "#    \n",
    "#    class_counts[cl] = c\n",
    "\n",
    "# raw data stats            \n",
    "print(\"Raw observations:\")\n",
    "print(\"%s observations\" % (len(y)))\n",
    "print(\"Class counts:\")\n",
    "for cl in class_counts.keys():\n",
    "    print(\"%s - %s\" % (cl, class_counts[cl]))\n",
    "    \n",
    "# if desired, use oversampling for any class that has less than 75% of the observations\n",
    "# of the largest class\n",
    "if oversample == True:\n",
    "    print(\"\\nOversampling enabled\")\n",
    "    print(\"Largest class is \" + largest_class + \" with %s observations\" % (largest_class_count))\n",
    "    \n",
    "    for cl in class_counts.keys():\n",
    "        if class_counts[cl] < 0.8 * largest_class_count:\n",
    "            # oversample\n",
    "            X, y = oversample(X, y, cl, largest_class_count)\n",
    "    \n",
    "    class_counts = {}\n",
    "    for cl in classes:\n",
    "        class_counts[cl] = y.count(cl)\n",
    "    \n",
    "    print(\"\\nObservations after oversampling:\")\n",
    "    for cl in class_counts.keys():\n",
    "        print(\"%s - %s\" % (cl, class_counts[cl]))"
   ]
  },
  {
   "cell_type": "markdown",
   "metadata": {},
   "source": [
    "# K-Nearest Neighbors\n",
    "Inputs: number of neighbors, training and test sets\n",
    "\n",
    "Outputs: accuracy score, confusion matrix"
   ]
  },
  {
   "cell_type": "code",
   "execution_count": 73,
   "metadata": {
    "collapsed": false
   },
   "outputs": [
    {
     "name": "stdout",
     "output_type": "stream",
     "text": [
      "max k = 40\n",
      "k = 1, metric = (1, 0.75507765830346474, array([[143,  64,  44],\n",
      "       [113, 993,  57],\n",
      "       [ 90,  42, 128]])) (29.822811724321127s)\n",
      "k = 2, metric = (2, 0.75507765830346474, array([[143,  64,  44],\n",
      "       [113, 993,  57],\n",
      "       [ 90,  42, 128]])) (29.244527705865494s)\n",
      "k = 3, metric = (3, 0.76881720430107525, array([[ 146,   71,   34],\n",
      "       [ 110, 1010,   43],\n",
      "       [  81,   48,  131]])) (29.056461014731667s)\n",
      "k = 4, metric = (4, 0.76045400238948624, array([[ 140,   75,   36],\n",
      "       [ 117, 1007,   39],\n",
      "       [  86,   48,  126]])) (29.33891779203259s)\n",
      "k = 5, metric = (5, 0.77060931899641572, array([[ 138,   81,   32],\n",
      "       [ 107, 1029,   27],\n",
      "       [  83,   54,  123]])) (29.56662891194901s)\n",
      "k = 6, metric = (6, 0.76941457586618878, array([[ 141,   75,   35],\n",
      "       [ 115, 1020,   28],\n",
      "       [  78,   55,  127]])) (29.71354519958686s)\n",
      "k = 7, metric = (7, 0.77060931899641572, array([[ 135,   79,   37],\n",
      "       [ 110, 1030,   23],\n",
      "       [  80,   55,  125]])) (29.788453614437913s)\n",
      "k = 8, metric = (8, 0.77240143369175629, array([[ 132,   82,   37],\n",
      "       [ 107, 1035,   21],\n",
      "       [  77,   57,  126]])) (29.23876928838763s)\n",
      "k = 9, metric = (9, 0.77180406212664276, array([[ 136,   81,   34],\n",
      "       [ 111, 1030,   22],\n",
      "       [  71,   63,  126]])) (28.603370033236388s)\n",
      "k = 10, metric = (10, 0.77598566308243733, array([[ 134,   88,   29],\n",
      "       [ 100, 1042,   21],\n",
      "       [  73,   64,  123]])) (30.31506476441882s)\n",
      "k = 11, metric = (11, 0.7753882915173238, array([[ 132,   88,   31],\n",
      "       [ 100, 1045,   18],\n",
      "       [  70,   69,  121]])) (34.80791553267545s)\n",
      "k = 12, metric = (12, 0.7753882915173238, array([[ 135,   87,   29],\n",
      "       [ 104, 1041,   18],\n",
      "       [  70,   68,  122]])) (32.511680192916174s)\n",
      "k = 13, metric = (13, 0.77419354838709675, array([[ 129,   89,   33],\n",
      "       [ 102, 1047,   14],\n",
      "       [  66,   74,  120]])) (31.41741257583726s)\n",
      "k = 14, metric = (14, 0.7753882915173238, array([[ 131,   88,   32],\n",
      "       [ 104, 1045,   14],\n",
      "       [  66,   72,  122]])) (31.73514519105356s)\n",
      "k = 15, metric = (15, 0.77419354838709675, array([[ 132,   86,   33],\n",
      "       [ 105, 1044,   14],\n",
      "       [  66,   74,  120]])) (32.75301777658569s)\n",
      "k = 16, metric = (16, 0.77718040621266427, array([[ 133,   87,   31],\n",
      "       [ 101, 1050,   12],\n",
      "       [  64,   78,  118]])) (32.76138202019456s)\n",
      "k = 17, metric = (17, 0.77359617682198323, array([[ 128,   92,   31],\n",
      "       [ 103, 1048,   12],\n",
      "       [  65,   76,  119]])) (32.40388843303117s)\n",
      "k = 18, metric = (18, 0.77658303464755074, array([[ 128,   95,   28],\n",
      "       [  95, 1055,   13],\n",
      "       [  65,   78,  117]])) (33.5338253693526s)\n",
      "k = 19, metric = (19, 0.77299880525686981, array([[ 129,   93,   29],\n",
      "       [ 100, 1051,   12],\n",
      "       [  63,   83,  114]])) (32.77234339858023s)\n",
      "k = 20, metric = (20, 0.77897252090800473, array([[ 127,   94,   30],\n",
      "       [  92, 1059,   12],\n",
      "       [  61,   81,  118]])) (32.7126013974912s)\n",
      "k = 21, metric = (21, 0.77479091995221028, array([[ 126,   97,   28],\n",
      "       [  97, 1055,   11],\n",
      "       [  63,   81,  116]])) (33.198129699504534s)\n",
      "k = 22, metric = (22, 0.77419354838709675, array([[ 124,   99,   28],\n",
      "       [  93, 1057,   13],\n",
      "       [  60,   85,  115]])) (32.89189021555012s)\n",
      "k = 23, metric = (23, 0.78136200716845883, array([[ 128,   96,   27],\n",
      "       [  84, 1067,   12],\n",
      "       [  60,   87,  113]])) (33.58726771860984s)\n",
      "k = 24, metric = (24, 0.78195937873357224, array([[ 128,   97,   26],\n",
      "       [  78, 1073,   12],\n",
      "       [  60,   92,  108]])) (31.5087176261859s)\n",
      "k = 25, metric = (25, 0.78255675029868577, array([[ 128,   97,   26],\n",
      "       [  77, 1074,   12],\n",
      "       [  60,   92,  108]])) (32.05334042337199s)\n",
      "k = 26, metric = (26, 0.78016726403823178, array([[ 123,  101,   27],\n",
      "       [  77, 1075,   11],\n",
      "       [  62,   90,  108]])) (32.77830645795257s)\n",
      "k = 27, metric = (27, 0.78375149342891282, array([[ 126,  101,   24],\n",
      "       [  75, 1077,   11],\n",
      "       [  62,   89,  109]])) (32.2595119962416s)\n",
      "k = 28, metric = (28, 0.7807646356033453, array([[ 121,  105,   25],\n",
      "       [  71, 1080,   12],\n",
      "       [  62,   92,  106]])) (31.789763638611475s)\n",
      "k = 29, metric = (29, 0.7807646356033453, array([[ 119,  106,   26],\n",
      "       [  72, 1083,    8],\n",
      "       [  62,   93,  105]])) (32.36363718967459s)\n",
      "k = 30, metric = (30, 0.77718040621266427, array([[ 114,  111,   26],\n",
      "       [  73, 1082,    8],\n",
      "       [  60,   95,  105]])) (32.075535377566666s)\n",
      "k = 31, metric = (31, 0.77897252090800473, array([[ 116,  108,   27],\n",
      "       [  69, 1087,    7],\n",
      "       [  61,   98,  101]])) (32.28475919614448s)\n",
      "k = 32, metric = (32, 0.77897252090800473, array([[ 115,  110,   26],\n",
      "       [  67, 1087,    9],\n",
      "       [  61,   97,  102]])) (32.2125747308346s)\n",
      "k = 33, metric = (33, 0.77299880525686981, array([[ 113,  110,   28],\n",
      "       [  70, 1083,   10],\n",
      "       [  63,   99,   98]])) (31.614739905287934s)\n",
      "k = 34, metric = (34, 0.77299880525686981, array([[ 111,  113,   27],\n",
      "       [  68, 1086,    9],\n",
      "       [  62,  101,   97]])) (32.00737935510915s)\n",
      "k = 35, metric = (35, 0.77060931899641572, array([[ 108,  114,   29],\n",
      "       [  66, 1088,    9],\n",
      "       [  60,  106,   94]])) (32.19876061283503s)\n",
      "k = 36, metric = (36, 0.77120669056152924, array([[ 105,  117,   29],\n",
      "       [  65, 1089,    9],\n",
      "       [  60,  103,   97]])) (31.663699095822267s)\n",
      "k = 37, metric = (37, 0.77359617682198323, array([[ 107,  116,   28],\n",
      "       [  63, 1089,   11],\n",
      "       [  58,  103,   99]])) (32.306486397437766s)\n",
      "k = 38, metric = (38, 0.77299880525686981, array([[ 108,  114,   29],\n",
      "       [  65, 1090,    8],\n",
      "       [  61,  103,   96]])) (32.42203953697208s)\n",
      "k = 39, metric = (39, 0.77120669056152924, array([[ 107,  115,   29],\n",
      "       [  66, 1088,    9],\n",
      "       [  59,  105,   96]])) (32.10438040320787s)\n",
      "k = 40, metric = (40, 0.7700119474313023, array([[ 106,  118,   27],\n",
      "       [  65, 1089,    9],\n",
      "       [  58,  108,   94]])) (32.2587594039469s)\n"
     ]
    }
   ],
   "source": [
    "# record metrics for the cross-validated value - n-neighbors\n",
    "# format of knn_metrics is [index, neighbors, score, confusion matrix]\n",
    "# score is the mean accuracy and is provided by the score function of the classifier\n",
    "knn_metrics = pd.DataFrame(columns=('neighbors', 'score', 'confusion matrix'))\n",
    "\n",
    "# create training and test sets\n",
    "# first method - evenly split training and test set into two random sets\n",
    "# randomly select from the original data into even-sized training and test sets\n",
    "# using training/test set cross-validation, with equally sized training and test sets\n",
    "\n",
    "# validation sets\n",
    "# TODO need to cross-validate the size of the train/test sets\n",
    "test_size = 0.5\n",
    "X_train, X_test, y_train, y_test = model_selection.train_test_split(X, y, test_size=test_size, random_state=0)\n",
    "\n",
    "def knn(k, X_train, y_train, X_test, y_test):\n",
    "    \"\"\"\n",
    "    Performs K-nearest Neighbors with provided parameters, returns a tuple containing\n",
    "    k, accuracy, precision, confusion matrix\n",
    "    \"\"\"\n",
    "    classifier = neighbors.KNeighborsClassifier(k, 'distance')\n",
    "    classifier.fit(X_train, y_train)\n",
    "    \n",
    "    y_prediction = classifier.predict(X_test)\n",
    "    cm = metrics.confusion_matrix(y_test, y_prediction, labels=classes)\n",
    "    score = classifier.score(X_test, y_test)\n",
    "    \n",
    "    metric = (k, score, cm)\n",
    "    return metric\n",
    "\n",
    "max_k = int(math.sqrt(len(X_train)))\n",
    "print(\"max k = \" + str(max_k))\n",
    "\n",
    "# TODO - look into parallelizing this\n",
    "i = 0\n",
    "for k in range(1, max_k + 1):\n",
    "    start = timer()\n",
    "    metric = knn(k, X_train, y_train, X_test, y_test)\n",
    "    end = timer()\n",
    "    print(\"k = %s, metric = %s (%ss)\" % (k, metric, end - start))\n",
    "    knn_metrics.loc[i] = metric\n",
    "    i += 1"
   ]
  },
  {
   "cell_type": "code",
   "execution_count": 74,
   "metadata": {
    "collapsed": false
   },
   "outputs": [
    {
     "name": "stdout",
     "output_type": "stream",
     "text": [
      "    neighbors     score                                 confusion matrix\n",
      "0         1.0  0.755078   [[143, 64, 44], [113, 993, 57], [90, 42, 128]]\n",
      "1         2.0  0.755078   [[143, 64, 44], [113, 993, 57], [90, 42, 128]]\n",
      "2         3.0  0.768817  [[146, 71, 34], [110, 1010, 43], [81, 48, 131]]\n",
      "3         4.0  0.760454  [[140, 75, 36], [117, 1007, 39], [86, 48, 126]]\n",
      "4         5.0  0.770609  [[138, 81, 32], [107, 1029, 27], [83, 54, 123]]\n",
      "5         6.0  0.769415  [[141, 75, 35], [115, 1020, 28], [78, 55, 127]]\n",
      "6         7.0  0.770609  [[135, 79, 37], [110, 1030, 23], [80, 55, 125]]\n",
      "7         8.0  0.772401  [[132, 82, 37], [107, 1035, 21], [77, 57, 126]]\n",
      "8         9.0  0.771804  [[136, 81, 34], [111, 1030, 22], [71, 63, 126]]\n",
      "9        10.0  0.775986  [[134, 88, 29], [100, 1042, 21], [73, 64, 123]]\n",
      "10       11.0  0.775388  [[132, 88, 31], [100, 1045, 18], [70, 69, 121]]\n",
      "11       12.0  0.775388  [[135, 87, 29], [104, 1041, 18], [70, 68, 122]]\n",
      "12       13.0  0.774194  [[129, 89, 33], [102, 1047, 14], [66, 74, 120]]\n",
      "13       14.0  0.775388  [[131, 88, 32], [104, 1045, 14], [66, 72, 122]]\n",
      "14       15.0  0.774194  [[132, 86, 33], [105, 1044, 14], [66, 74, 120]]\n",
      "15       16.0  0.777180  [[133, 87, 31], [101, 1050, 12], [64, 78, 118]]\n",
      "16       17.0  0.773596  [[128, 92, 31], [103, 1048, 12], [65, 76, 119]]\n",
      "17       18.0  0.776583   [[128, 95, 28], [95, 1055, 13], [65, 78, 117]]\n",
      "18       19.0  0.772999  [[129, 93, 29], [100, 1051, 12], [63, 83, 114]]\n",
      "19       20.0  0.778973   [[127, 94, 30], [92, 1059, 12], [61, 81, 118]]\n",
      "20       21.0  0.774791   [[126, 97, 28], [97, 1055, 11], [63, 81, 116]]\n",
      "21       22.0  0.774194   [[124, 99, 28], [93, 1057, 13], [60, 85, 115]]\n",
      "22       23.0  0.781362   [[128, 96, 27], [84, 1067, 12], [60, 87, 113]]\n",
      "23       24.0  0.781959   [[128, 97, 26], [78, 1073, 12], [60, 92, 108]]\n",
      "24       25.0  0.782557   [[128, 97, 26], [77, 1074, 12], [60, 92, 108]]\n",
      "25       26.0  0.780167  [[123, 101, 27], [77, 1075, 11], [62, 90, 108]]\n",
      "26       27.0  0.783751  [[126, 101, 24], [75, 1077, 11], [62, 89, 109]]\n",
      "27       28.0  0.780765  [[121, 105, 25], [71, 1080, 12], [62, 92, 106]]\n",
      "28       29.0  0.780765   [[119, 106, 26], [72, 1083, 8], [62, 93, 105]]\n",
      "29       30.0  0.777180   [[114, 111, 26], [73, 1082, 8], [60, 95, 105]]\n",
      "30       31.0  0.778973   [[116, 108, 27], [69, 1087, 7], [61, 98, 101]]\n",
      "31       32.0  0.778973   [[115, 110, 26], [67, 1087, 9], [61, 97, 102]]\n",
      "32       33.0  0.772999   [[113, 110, 28], [70, 1083, 10], [63, 99, 98]]\n",
      "33       34.0  0.772999   [[111, 113, 27], [68, 1086, 9], [62, 101, 97]]\n",
      "34       35.0  0.770609   [[108, 114, 29], [66, 1088, 9], [60, 106, 94]]\n",
      "35       36.0  0.771207   [[105, 117, 29], [65, 1089, 9], [60, 103, 97]]\n",
      "36       37.0  0.773596  [[107, 116, 28], [63, 1089, 11], [58, 103, 99]]\n",
      "37       38.0  0.772999   [[108, 114, 29], [65, 1090, 8], [61, 103, 96]]\n",
      "38       39.0  0.771207   [[107, 115, 29], [66, 1088, 9], [59, 105, 96]]\n",
      "39       40.0  0.770012   [[106, 118, 27], [65, 1089, 9], [58, 108, 94]]\n",
      "0     0.755078\n",
      "1     0.755078\n",
      "2     0.768817\n",
      "3     0.760454\n",
      "4     0.770609\n",
      "5     0.769415\n",
      "6     0.770609\n",
      "7     0.772401\n",
      "8     0.771804\n",
      "9     0.775986\n",
      "10    0.775388\n",
      "11    0.775388\n",
      "12    0.774194\n",
      "13    0.775388\n",
      "14    0.774194\n",
      "15    0.777180\n",
      "16    0.773596\n",
      "17    0.776583\n",
      "18    0.772999\n",
      "19    0.778973\n",
      "20    0.774791\n",
      "21    0.774194\n",
      "22    0.781362\n",
      "23    0.781959\n",
      "24    0.782557\n",
      "25    0.780167\n",
      "26    0.783751\n",
      "27    0.780765\n",
      "28    0.780765\n",
      "29    0.777180\n",
      "30    0.778973\n",
      "31    0.778973\n",
      "32    0.772999\n",
      "33    0.772999\n",
      "34    0.770609\n",
      "35    0.771207\n",
      "36    0.773596\n",
      "37    0.772999\n",
      "38    0.771207\n",
      "39    0.770012\n",
      "Name: score, dtype: float64\n",
      "best mean accuracy = 0.783751493429 @ k = 27.0\n"
     ]
    }
   ],
   "source": [
    "print(knn_metrics)\n",
    "print(knn_metrics['score'])\n",
    "\n",
    "max_accuracy = knn_metrics.loc[knn_metrics['score'].idxmax()]\n",
    "print(\"best mean accuracy = %s @ k = %s\" % (max_accuracy['score'], max_accuracy['neighbors']))\n"
   ]
  },
  {
   "cell_type": "code",
   "execution_count": 75,
   "metadata": {
    "collapsed": false
   },
   "outputs": [
    {
     "name": "stdout",
     "output_type": "stream",
     "text": [
      "Normalized confusion matrix\n",
      "[[ 0.50199203  0.40239044  0.09561753]\n",
      " [ 0.06448839  0.92605331  0.0094583 ]\n",
      " [ 0.23846154  0.34230769  0.41923077]]\n"
     ]
    },
    {
     "data": {
      "image/png": "[encoded data removed]",
      "text/plain": [
       "<matplotlib.figure.Figure at 0x23a4706efd0>"
      ]
     },
     "metadata": {},
     "output_type": "display_data"
    }
   ],
   "source": [
    "plot_confusion_matrix(max_accuracy['confusion matrix'], \n",
    "                      classes, \n",
    "                      title='Normalized confusion matrix for k=%s' % (int(max_accuracy['neighbors'])))\n",
    "plt.show()"
   ]
  },
  {
   "cell_type": "code",
   "execution_count": 76,
   "metadata": {
    "collapsed": false
   },
   "outputs": [
    {
     "data": {
      "image/png": "[encoded data removed]",
      "text/plain": [
       "<matplotlib.figure.Figure at 0x23a4706eda0>"
      ]
     },
     "metadata": {},
     "output_type": "display_data"
    }
   ],
   "source": [
    "plt.plot(knn_metrics['neighbors'], knn_metrics['score'], label='accuracy')\n",
    "plt.title(\"Accuracy versus k\")\n",
    "plt.xlabel(\"k\")\n",
    "plt.ylabel(\"mean accuracy\")\n",
    "plt.show()"
   ]
  },
  {
   "cell_type": "markdown",
   "metadata": {},
   "source": [
    "# LDA and QDA\n",
    "Variables: N/A\n",
    "\n",
    "Output: accuracy score, confusion matrix"
   ]
  },
  {
   "cell_type": "code",
   "execution_count": 8,
   "metadata": {
    "collapsed": false
   },
   "outputs": [
    {
     "name": "stderr",
     "output_type": "stream",
     "text": [
      "C:\\Users\\jchadwick\\AppData\\Local\\Continuum\\Anaconda3\\lib\\site-packages\\sklearn\\discriminant_analysis.py:387: UserWarning: Variables are collinear.\n",
      "  warnings.warn(\"Variables are collinear.\")\n"
     ]
    },
    {
     "name": "stdout",
     "output_type": "stream",
     "text": [
      "LDA Results:\n",
      "accuracy = 0.553166069295\n",
      "confusion matrix = \n",
      "[[104  90  57]\n",
      " [256 735 172]\n",
      " [ 80  93  87]]\n",
      "Normalized confusion matrix\n",
      "[[ 0.41434263  0.35856574  0.22709163]\n",
      " [ 0.22012038  0.63198624  0.14789338]\n",
      " [ 0.30769231  0.35769231  0.33461538]]\n"
     ]
    },
    {
     "data": {
      "image/png": "[encoded data removed]",
      "text/plain": [
       "<matplotlib.figure.Figure at 0x23a46e0ed68>"
      ]
     },
     "metadata": {},
     "output_type": "display_data"
    }
   ],
   "source": [
    "# response has to be numeric for LDA and QDA\n",
    "y_train_numeric = []\n",
    "y_test_numeric = []\n",
    "for cl in y_train:\n",
    "    y_train_numeric.append(classes.index(cl))\n",
    "\n",
    "for cl in y_test:\n",
    "    y_test_numeric.append(classes.index(cl))\n",
    "\n",
    "# LDA\n",
    "    \n",
    "#print(y_train_numeric[:5])\n",
    "#print(X_train[:5])\n",
    "classifier = discriminant_analysis.LinearDiscriminantAnalysis()\n",
    "classifier.fit(X_train, y_train_numeric)\n",
    "\n",
    "y_prediction = []\n",
    "y_prediction_num = classifier.predict(X_test)\n",
    "for pred in y_prediction_num:\n",
    "    y_prediction.append(classes[pred])\n",
    "\n",
    "cm = metrics.confusion_matrix(y_test, y_prediction, labels=classes)\n",
    "accuracy = metrics.accuracy_score(y_test, y_prediction, normalize=True)\n",
    "\n",
    "print(\"LDA Results:\")\n",
    "print(\"accuracy = \" + str(accuracy))\n",
    "print(\"confusion matrix = \")\n",
    "print(cm)\n",
    "\n",
    "plot_confusion_matrix(cm, classes, title=\"LDA Confusion Matrix\")\n",
    "plt.show()"
   ]
  },
  {
   "cell_type": "code",
   "execution_count": 9,
   "metadata": {
    "collapsed": false
   },
   "outputs": [
    {
     "name": "stderr",
     "output_type": "stream",
     "text": [
      "C:\\Users\\jchadwick\\AppData\\Local\\Continuum\\Anaconda3\\lib\\site-packages\\sklearn\\discriminant_analysis.py:695: UserWarning: Variables are collinear\n",
      "  warnings.warn(\"Variables are collinear\")\n"
     ]
    },
    {
     "name": "stdout",
     "output_type": "stream",
     "text": [
      "QDA Results:\n",
      "accuracy = 0.589008363202\n",
      "confusion matrix = \n",
      "[[ 55 166  30]\n",
      " [160 891 112]\n",
      " [ 49 171  40]]\n",
      "Normalized confusion matrix\n",
      "[[ 0.21912351  0.66135458  0.11952191]\n",
      " [ 0.13757524  0.7661221   0.09630267]\n",
      " [ 0.18846154  0.65769231  0.15384615]]\n"
     ]
    },
    {
     "data": {
      "image/png": "[encoded data removed]",
      "text/plain": [
       "<matplotlib.figure.Figure at 0x23a3e6a0208>"
      ]
     },
     "metadata": {},
     "output_type": "display_data"
    }
   ],
   "source": [
    "# QDA\n",
    "classifier = discriminant_analysis.QuadraticDiscriminantAnalysis()\n",
    "classifier.fit(X_train, y_train_numeric)\n",
    "\n",
    "y_prediction = []\n",
    "y_prediction_num = classifier.predict(X_test)\n",
    "for pred in y_prediction_num:\n",
    "    y_prediction.append(classes[pred])\n",
    "\n",
    "cm = metrics.confusion_matrix(y_test, y_prediction, labels=classes)\n",
    "accuracy = metrics.accuracy_score(y_test, y_prediction, normalize=True)\n",
    "\n",
    "print(\"QDA Results:\")\n",
    "print(\"accuracy = \" + str(accuracy))\n",
    "print(\"confusion matrix = \")\n",
    "print(cm)\n",
    "\n",
    "plot_confusion_matrix(cm, classes, title=\"QDA Confusion Matrix\")\n",
    "plt.show()"
   ]
  },
  {
   "cell_type": "markdown",
   "metadata": {
    "collapsed": true
   },
   "source": [
    "# Softmax Regression (precursor to CNN)\n",
    "\n",
    "This section is largely adapted from:\n",
    "\n",
    "https://www.tensorflow.org/get_started/mnist/pros\n"
   ]
  },
  {
   "cell_type": "code",
   "execution_count": 68,
   "metadata": {
    "collapsed": true
   },
   "outputs": [],
   "source": [
    "sess = tf.InteractiveSession()\n",
    "\n",
    "# setup inputs\n",
    "# x has 3072 features since it consists of 32x32 pixels\n",
    "# y_ is a one-hot multi-dimensional vector the size of the number\n",
    "# of classes\n",
    "x = tf.placeholder(tf.float32, [None, num_features])\n",
    "y_ = tf.placeholder(tf.int32, [None, len(classes)])\n",
    "\n",
    "# define weights (W) and biases (b)\n",
    "W = tf.Variable(tf.zeros([num_features, len(classes)]))\n",
    "b = tf.Variable(tf.zeros([len(classes)]))\n",
    "\n",
    "# initialize variables\n",
    "tf.global_variables_initializer().run()"
   ]
  },
  {
   "cell_type": "code",
   "execution_count": 69,
   "metadata": {
    "collapsed": true
   },
   "outputs": [],
   "source": [
    "# implement the regression model\n",
    "model = tf.matmul(x, W) + b\n",
    "\n",
    "# specify the loss function\n",
    "cross_entropy = tf.reduce_mean(\n",
    "    tf.nn.softmax_cross_entropy_with_logits(labels=y_, logits=model))\n",
    "\n",
    "# use steepest gradient descent to train the model\n",
    "train_step = tf.train.GradientDescentOptimizer(0.5).minimize(cross_entropy)"
   ]
  },
  {
   "cell_type": "code",
   "execution_count": 70,
   "metadata": {
    "collapsed": true
   },
   "outputs": [],
   "source": [
    "# now repeatedly run train_step to perform gradient descent\n",
    "offset = 0\n",
    "batch_size = 100\n",
    "for _ in range(1000):\n",
    "    X_batch, y_batch, offset = next_batch(X_train, y_train, offset, batch_size)\n",
    "    # generate one-hot encoding for the response\n",
    "    y_one_hot, class_map = one_hot(y_batch, classes)\n",
    "    sess.run(train_step, feed_dict={x: X_batch, y_: y_one_hot})"
   ]
  },
  {
   "cell_type": "code",
   "execution_count": 72,
   "metadata": {
    "collapsed": false
   },
   "outputs": [
    {
     "name": "stdout",
     "output_type": "stream",
     "text": [
      "accuracy = 0.705496\n",
      "Normalized confusion matrix\n",
      "[[  1.87250996e-01   8.00796813e-01   1.19521912e-02]\n",
      " [  3.26741187e-02   9.66466036e-01   8.59845228e-04]\n",
      " [  3.23076923e-01   6.38461538e-01   3.84615385e-02]]\n"
     ]
    },
    {
     "data": {
      "image/png": "[encoded data removed]",
      "text/plain": [
       "<matplotlib.figure.Figure at 0x23a46f2fe10>"
      ]
     },
     "metadata": {},
     "output_type": "display_data"
    }
   ],
   "source": [
    "# evaluate the model\n",
    "y_true = tf.argmax(y_, 1)\n",
    "y_pred = tf.argmax(model, 1)\n",
    "\n",
    "predictions = y_pred.eval(feed_dict={ x: X_test })\n",
    "\n",
    "# define metric\n",
    "correct_prediction = tf.equal(y_pred, y_true)\n",
    "accuracy = tf.reduce_mean(tf.cast(correct_prediction, tf.float32))\n",
    "\n",
    "y_one_hot, _ = one_hot(y_test, classes)\n",
    "#print(accuracy.eval(feed_dict={x: X_test, y_: y_one_hot}))\n",
    "accuracy_metric = sess.run(accuracy, feed_dict={x: X_test, y_: y_one_hot})\n",
    "print(\"accuracy = %s\" % (accuracy_metric))\n",
    "\n",
    "sess.close()\n",
    "\n",
    "# calculate confusion matrix\n",
    "# return the predictions to class names\n",
    "class_predictions = []\n",
    "for pred in predictions:\n",
    "    class_predictions.append(class_map[pred])\n",
    "cm = metrics.confusion_matrix(y_test, np.array(class_predictions))\n",
    "plot_confusion_matrix(cm, classes, title=\"Softmax Regression Confusion Matrix\")\n",
    "plt.show()"
   ]
  },
  {
   "cell_type": "markdown",
   "metadata": {
    "collapsed": true
   },
   "source": [
    "# Convolutional Neural Network\n",
    "\n",
    "This code adapted from https://www.tensorflow.org/get_started/mnist/pros"
   ]
  },
  {
   "cell_type": "code",
   "execution_count": 9,
   "metadata": {
    "collapsed": false
   },
   "outputs": [],
   "source": [
    "# CNN Setup\n",
    "sess = tf.InteractiveSession()\n",
    "\n",
    "# placeholders\n",
    "x = tf.placeholder(tf.float32, [None, num_features])\n",
    "\n",
    "# initialize weights with small amount of noise\n",
    "def weight_variable(shape):\n",
    "    initial = tf.truncated_normal(shape, stddev=0.1)\n",
    "    return tf.Variable(initial)\n",
    "\n",
    "# give the neurons a slightly positive bias to avoid dead neurons\n",
    "def bias_variable(shape):\n",
    "    initial = tf.constant(0.1, shape=shape)\n",
    "    return tf.Variable(initial)\n",
    "\n",
    "# conv2d uses stride of one and are zero-padded - output\n",
    "# is the same size as the input\n",
    "def conv2d(x, W):\n",
    "    return tf.nn.conv2d(x, W, strides=[1, 1, 1, 1], padding='SAME')\n",
    "\n",
    "# pooling is max pooling over 2x2 blocks\n",
    "def max_pool_2x2(x):\n",
    "    return tf.nn.max_pool(x, ksize=[1, 2, 2, 1],\n",
    "                         strides=[1, 2, 2, 1], padding='SAME')"
   ]
  },
  {
   "cell_type": "code",
   "execution_count": 11,
   "metadata": {
    "collapsed": false
   },
   "outputs": [],
   "source": [
    "# first convolutional layer\n",
    "# convolution , followed by max pooling\n",
    "W_conv1 = weight_variable([5, 5, 1, 32])\n",
    "b_conv1 = bias_variable([32])\n",
    "\n",
    "# reshape x to a 4d tensor\n",
    "x_image = tf.reshape(x, [-1, 28, 28, 1])\n",
    "\n",
    "# reshape x_image with weight tensor, add the bias, apply ReLU function\n",
    "# finally max pool\n",
    "# max_pool_2x2 reduces image to 14x14\n",
    "h_conv1 = tf.nn.relu(conv2d(x_image, W_conv1) + b_conv1)\n",
    "h_pool1 = max_pool_2x2(h_conv1)"
   ]
  },
  {
   "cell_type": "code",
   "execution_count": 12,
   "metadata": {
    "collapsed": true
   },
   "outputs": [],
   "source": [
    "# second convolutional layer\n",
    "# 64 features for each 5x5 patch\n",
    "W_conv2 = weight_variable([5, 5, 32, 64])\n",
    "b_conv2 = bias_variable([64])\n",
    "\n",
    "# max_pool_2x2 reduces image size to 7x7\n",
    "h_conv2 = tf.nn.relu(conv2d(h_pool1, W_conv2) + b_conv2)\n",
    "h_pool2 = max_pool_2x2(h_conv2)"
   ]
  },
  {
   "cell_type": "code",
   "execution_count": 13,
   "metadata": {
    "collapsed": true
   },
   "outputs": [],
   "source": [
    "# densely connected layer\n",
    "# fully-connected layer with 1024 neurons\n",
    "# reshape the tnsor from the pooling layer into a batch of vectors\n",
    "# multiply by weight matrix, add a bias, and apply ReLU\n",
    "W_fc1 = weight_variable([7 * 7 * 64, 1024])\n",
    "b_fc1 = bias_variable([1024])\n",
    "\n",
    "h_pool2_flat = tf.reshape(h_pool2, [-1, 7*7*64])\n",
    "h_fc1 = tf.nn.relu(tf.matmul(h_pool2_flat, W_fc1) + b_fc1)"
   ]
  },
  {
   "cell_type": "code",
   "execution_count": null,
   "metadata": {
    "collapsed": true
   },
   "outputs": [],
   "source": [
    "# dropout - reduces overfitting"
   ]
  }
 ],
 "metadata": {
  "anaconda-cloud": {},
  "kernelspec": {
   "display_name": "Python 3",
   "language": "python",
   "name": "python3"
  },
  "language_info": {
   "codemirror_mode": {
    "name": "ipython",
    "version": 3
   },
   "file_extension": ".py",
   "mimetype": "text/x-python",
   "name": "python",
   "nbconvert_exporter": "python",
   "pygments_lexer": "ipython3",
   "version": "3.5.0"
  }
 },
 "nbformat": 4,
 "nbformat_minor": 1
}
