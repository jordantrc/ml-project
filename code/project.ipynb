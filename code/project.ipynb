{
 "cells": [
  {
   "cell_type": "code",
   "execution_count": 1,
   "metadata": {
    "collapsed": false
   },
   "outputs": [],
   "source": [
    "# necessary libraries, functions, and constants\n",
    "import matplotlib.pyplot as plt\n",
    "import os\n",
    "import numpy as np\n",
    "import random\n",
    "from PIL import Image\n",
    "from sklearn import metrics\n",
    "from sklearn import model_selection\n",
    "from sklearn import neighbors\n",
    "\n",
    "IMAGE_SIZE = (32, 32)\n",
    "labels = ['ocean', 'ship', 'sky']\n",
    "\n",
    "def normalize_rgb(r, g, b):\n",
    "    \"\"\"takes an input between 1 and 255 and returns a \n",
    "    value between 0 and 1\"\"\"\n",
    "    return (r/255.0, g/255.0, b/255.0)\n",
    "\n",
    "def extract_features_labels(file_list):\n",
    "    \"\"\"trains the classifier given a set of files\"\"\"\n",
    "    # X contains the features, Y contains the classes\n",
    "    X = []\n",
    "    Y = []\n",
    "    \n",
    "    # train on the file_list\n",
    "    for file in file_list:\n",
    "        # metadata\n",
    "        if file[0] != \".\":\n",
    "            label, dataset_name, dataset_index = file.split(\"_\") # label_dataset_index.extension\n",
    "            dataset_index, extension = dataset_index.split(\".\") # index.extension\n",
    "            #print(\"%s %s %s\" % (classification, dataset_name, dataset_index))\n",
    "            # set the label\n",
    "            Y.append(label)\n",
    "\n",
    "            path = image_dir + \"/\" + file\n",
    "            im = Image.open(path)\n",
    "            im = im.resize(IMAGE_SIZE, resample=Image.LANCZOS)\n",
    "\n",
    "            # get the rgb color components of all pixels\n",
    "            image_features = []\n",
    "            for x in range(0,IMAGE_SIZE[0]):\n",
    "                for y in range(0,IMAGE_SIZE[1]):\n",
    "                    r, g, b = im.getpixel((x, y))\n",
    "                    r, g, b = normalize_rgb(r, g, b)\n",
    "                    image_features.extend([r, g, b])\n",
    "            X.append(image_features)\n",
    "\n",
    "            #print(\"%s %s %s\" % (r, g, b))\n",
    "            new_name = (\"%s_%s_%s.%s\" % (label, dataset_name, dataset_index, \"png\"))\n",
    "            im.save(tmp_dir + \"/\" + new_name, \"PNG\")\n",
    "    \n",
    "    return X, Y\n",
    "\n",
    "# this function taken from:\n",
    "# http://scikit-learn.org/stable/auto_examples/model_selection/plot_confusion_matrix.html\n",
    "def plot_confusion_matrix(cm, classes,\n",
    "                          normalize=False,\n",
    "                          title='Confusion matrix',\n",
    "                          cmap=plt.cm.Blues):\n",
    "    \"\"\"\n",
    "    This function prints and plots the confusion matrix.\n",
    "    Normalization can be applied by setting `normalize=True`.\n",
    "    \"\"\"\n",
    "    plt.imshow(cm, interpolation='nearest', cmap=cmap)\n",
    "    plt.title(title)\n",
    "    plt.colorbar()\n",
    "    tick_marks = np.arange(len(classes))\n",
    "    plt.xticks(tick_marks, classes, rotation=45)\n",
    "    plt.yticks(tick_marks, classes)\n",
    "\n",
    "    if normalize:\n",
    "        cm = cm.astype('float') / cm.sum(axis=1)[:, np.newaxis]\n",
    "        print(\"Normalized confusion matrix\")\n",
    "    else:\n",
    "        print('Confusion matrix, without normalization')\n",
    "\n",
    "    print(cm)\n",
    "\n",
    "    thresh = cm.max() / 2.\n",
    "    for i, j in itertools.product(range(cm.shape[0]), range(cm.shape[1])):\n",
    "        plt.text(j, i, cm[i, j],\n",
    "                 horizontalalignment=\"center\",\n",
    "                 color=\"white\" if cm[i, j] > thresh else \"black\")\n",
    "\n",
    "    plt.tight_layout()\n",
    "    plt.ylabel('True label')\n",
    "    plt.xlabel('Predicted label')"
   ]
  },
  {
   "cell_type": "code",
   "execution_count": 2,
   "metadata": {
    "collapsed": false
   },
   "outputs": [
    {
     "name": "stdout",
     "output_type": "stream",
     "text": [
      "cwd = /Users/jordan/Documents/ml-project/code\n",
      "image_dir = ../images/combined\n",
      "tmp_dir = ../images/tmp\n"
     ]
    }
   ],
   "source": [
    "# directory structure\n",
    "cwd = os.getcwd()\n",
    "image_dir = \"../images/combined\"\n",
    "tmp_dir = \"../images/tmp\"\n",
    "print(\"cwd = \" + cwd)\n",
    "print(\"image_dir = \" + image_dir)\n",
    "print(\"tmp_dir = \" + tmp_dir)\n",
    "\n",
    "if not os.path.exists(tmp_dir):\n",
    "    os.mkdir(tmp_dir)"
   ]
  },
  {
   "cell_type": "code",
   "execution_count": 3,
   "metadata": {
    "collapsed": false
   },
   "outputs": [
    {
     "name": "stdout",
     "output_type": "stream",
     "text": [
      "3347 observations\n",
      "Label counts:\n",
      "ocean - 504\n",
      "ship - 2347\n",
      "sky - 496\n"
     ]
    }
   ],
   "source": [
    "# process images, create labels and features\n",
    "files = os.listdir(image_dir)\n",
    "\n",
    "X, y = extract_features_labels(files)\n",
    "\n",
    "# some stats about the dataset\n",
    "print(\"%s observations\" % (len(y)))\n",
    "\n",
    "print(\"Label counts:\")\n",
    "for label in labels:\n",
    "    print(\"%s - %s\" % (label, y.count(label)))\n"
   ]
  },
  {
   "cell_type": "code",
   "execution_count": 4,
   "metadata": {
    "collapsed": false
   },
   "outputs": [
    {
     "name": "stdout",
     "output_type": "stream",
     "text": [
      "max accuracy = 0.797491039427\n",
      "max precision = 0.797491039427\n"
     ]
    }
   ],
   "source": [
    "# K-NN\n",
    "#\n",
    "# inputs:\n",
    "# number of neighbors\n",
    "#\n",
    "# output metrics:\n",
    "# confusion matrix\n",
    "# normalized accuracy score\n",
    "# precision score\n",
    "# area under the ROC curve\n",
    "\n",
    "# record metrics for the cross-validated value - n-neighbors\n",
    "# format of knn_metrics is [neighbors, accuracy, precision, confusion matrix] \n",
    "knn_neighbors = []\n",
    "knn_accuracy = []\n",
    "knn_precision = []\n",
    "knn_cm = []\n",
    "\n",
    "for n_neighbors in range(1, 20):\n",
    "    # create training and test sets\n",
    "    # first method - evenly split training and test set into two random sets\n",
    "    # randomly select from the original data into even-sized training and test sets\n",
    "    X_train, X_test, y_train, y_test = model_selection.train_test_split(X, y, test_size=0.5, random_state=0)\n",
    "    classifier = neighbors.KNeighborsClassifier(n_neighbors, 'distance')\n",
    "    classifier.fit(X_train, y_train)\n",
    "    y_prediction = classifier.predict(X_test)\n",
    "\n",
    "    cm = metrics.confusion_matrix(y_test, y_prediction, labels=labels)\n",
    "    accuracy = metrics.accuracy_score(y_test, y_prediction, normalize=True)\n",
    "    precision = metrics.precision_score(y_test, y_prediction, average='micro')\n",
    "    \n",
    "    knn_neighbors.append(n_neighbors)\n",
    "    knn_accuracy.append(accuracy)\n",
    "    knn_precision.append(precision)\n",
    "    knn_cm.append(cm)\n",
    "\n",
    "print(\"max accuracy = %s\" % (max(knn_accuracy)))\n",
    "print(\"max precision = %s\" % (max(knn_precision)))\n",
    "\n",
    "\n",
    "# second method - Stratified k-folds\n",
    "\n",
    "\n",
    "# third method - LOOCV\n"
   ]
  },
  {
   "cell_type": "code",
   "execution_count": null,
   "metadata": {
    "collapsed": false
   },
   "outputs": [],
   "source": [
    "import itertools\n",
    "plot_confusion_matrix(knn_cm[16], labels, title='Confusion matrix for k=17')\n",
    "plt.show()"
   ]
  },
  {
   "cell_type": "code",
   "execution_count": null,
   "metadata": {
    "collapsed": false
   },
   "outputs": [],
   "source": [
    "accuracy_index = knn_accuracy.index(max(knn_accuracy))\n",
    "precision_index = knn_precision.index(max(knn_precision))\n",
    "\n",
    "plt.plot(range(1, 20), knn_accuracy, label='accuracy')\n",
    "plt.title(\"Accuracy for different values of k\")\n",
    "plt.xlabel(\"k\")\n",
    "plt.ylabel(\"accuracy\")\n",
    "plt.show()"
   ]
  },
  {
   "cell_type": "code",
   "execution_count": null,
   "metadata": {
    "collapsed": true
   },
   "outputs": [],
   "source": []
  }
 ],
 "metadata": {
  "kernelspec": {
   "display_name": "Python 3",
   "language": "python",
   "name": "python3"
  },
  "language_info": {
   "codemirror_mode": {
    "name": "ipython",
    "version": 3
   },
   "file_extension": ".py",
   "mimetype": "text/x-python",
   "name": "python",
   "nbconvert_exporter": "python",
   "pygments_lexer": "ipython3",
   "version": "3.5.0"
  }
 },
 "nbformat": 4,
 "nbformat_minor": 0
}
