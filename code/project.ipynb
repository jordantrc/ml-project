{
 "cells": [
  {
   "cell_type": "code",
   "execution_count": 2,
   "metadata": {
    "collapsed": false
   },
   "outputs": [],
   "source": [
    "# necessary libraries, functions, and constants\n",
    "import csv\n",
    "import matplotlib.pyplot as plt\n",
    "import numpy as np\n",
    "import random\n",
    "from PIL import Image\n",
    "from sklearn import discriminant_analysis\n",
    "from sklearn import metrics\n",
    "from sklearn import model_selection\n",
    "from sklearn import neighbors\n",
    "\n",
    "labels = ['ocean', 'ship', 'sky']\n",
    "\n",
    "# this function taken from:\n",
    "# http://scikit-learn.org/stable/auto_examples/model_selection/plot_confusion_matrix.html\n",
    "def plot_confusion_matrix(cm, classes,\n",
    "                          normalize=False,\n",
    "                          title='Confusion matrix',\n",
    "                          cmap=plt.cm.Blues):\n",
    "    \"\"\"\n",
    "    This function prints and plots the confusion matrix.\n",
    "    Normalization can be applied by setting `normalize=True`.\n",
    "    \"\"\"\n",
    "    plt.imshow(cm, interpolation='nearest', cmap=cmap)\n",
    "    plt.title(title)\n",
    "    plt.colorbar()\n",
    "    tick_marks = np.arange(len(classes))\n",
    "    plt.xticks(tick_marks, classes, rotation=45)\n",
    "    plt.yticks(tick_marks, classes)\n",
    "\n",
    "    if normalize:\n",
    "        cm = cm.astype('float') / cm.sum(axis=1)[:, np.newaxis]\n",
    "        print(\"Normalized confusion matrix\")\n",
    "    else:\n",
    "        print('Confusion matrix, without normalization')\n",
    "\n",
    "    print(cm)\n",
    "\n",
    "    thresh = cm.max() / 2.\n",
    "    for i, j in itertools.product(range(cm.shape[0]), range(cm.shape[1])):\n",
    "        plt.text(j, i, cm[i, j],\n",
    "                 horizontalalignment=\"center\",\n",
    "                 color=\"white\" if cm[i, j] > thresh else \"black\")\n",
    "\n",
    "    plt.tight_layout()\n",
    "    plt.ylabel('True label')\n",
    "    plt.xlabel('Predicted label')"
   ]
  },
  {
   "cell_type": "code",
   "execution_count": 3,
   "metadata": {
    "collapsed": false
   },
   "outputs": [
    {
     "name": "stdout",
     "output_type": "stream",
     "text": [
      "3347 observations\n",
      "Label counts:\n",
      "ocean - 504\n",
      "ship - 2347\n",
      "sky - 496\n"
     ]
    }
   ],
   "source": [
    "# import data from data.csv\n",
    "y = []\n",
    "X = []\n",
    "\n",
    "with open('data.csv', 'r') as csvfile:\n",
    "    data_reader = csv.reader(csvfile, dialect='excel')\n",
    "    for row in data_reader:\n",
    "        if len(row) > 0:\n",
    "            y.append(row[0])\n",
    "            X.append(row[1:])\n",
    "\n",
    "print(\"%s observations\" % (len(y)))\n",
    "assert len(X) == len(y)\n",
    "\n",
    "print(\"Label counts:\")\n",
    "for label in labels:\n",
    "    print(\"%s - %s\" % (label, y.count(label)))\n"
   ]
  },
  {
   "cell_type": "code",
   "execution_count": 4,
   "metadata": {
    "collapsed": false
   },
   "outputs": [
    {
     "name": "stdout",
     "output_type": "stream",
     "text": [
      "max accuracy = 0.797491039427\n",
      "max precision = 0.797491039427\n"
     ]
    }
   ],
   "source": [
    "# K-NN\n",
    "#\n",
    "# inputs:\n",
    "# number of neighbors\n",
    "#\n",
    "# output metrics:\n",
    "# confusion matrix\n",
    "# normalized accuracy score\n",
    "# precision score\n",
    "# area under the ROC curve\n",
    "\n",
    "# record metrics for the cross-validated value - n-neighbors\n",
    "# format of knn_metrics is [neighbors, accuracy, precision, confusion matrix] \n",
    "knn_metrics = []\n",
    "\n",
    "for n_neighbors in range(1, 21):\n",
    "    # create training and test sets\n",
    "    # first method - evenly split training and test set into two random sets\n",
    "    # randomly select from the original data into even-sized training and test sets\n",
    "    X_train, X_test, y_train, y_test = model_selection.train_test_split(X, y, test_size=0.5, random_state=0)\n",
    "    classifier = neighbors.KNeighborsClassifier(n_neighbors, 'distance')\n",
    "    classifier.fit(X_train, y_train)\n",
    "    y_prediction = classifier.predict(X_test)\n",
    "\n",
    "    cm = metrics.confusion_matrix(y_test, y_prediction, labels=labels)\n",
    "    accuracy = metrics.accuracy_score(y_test, y_prediction, normalize=True)\n",
    "    precision = metrics.precision_score(y_test, y_prediction, average='micro')\n",
    "    \n",
    "    \n",
    "    \n",
    "    knn_neighbors.append(n_neighbors)\n",
    "    knn_accuracy.append(accuracy)\n",
    "    knn_precision.append(precision)\n",
    "    knn_cm.append(cm)\n",
    "    \n",
    "    \n",
    "\n",
    "    \n",
    "print(\"max accuracy = %s, at k = \" % (max_accuracy))\n",
    "print(\"max precision = %s, at k = \" % (max(knn_precision)))\n",
    "\n",
    "\n",
    "# second method - Stratified k-folds\n",
    "\n",
    "\n",
    "# third method - LOOCV\n"
   ]
  },
  {
   "cell_type": "code",
   "execution_count": null,
   "metadata": {
    "collapsed": false
   },
   "outputs": [],
   "source": [
    "import itertools\n",
    "plot_confusion_matrix(knn_cm[16], labels, title='Confusion matrix for k=17')\n",
    "plt.show()"
   ]
  },
  {
   "cell_type": "code",
   "execution_count": null,
   "metadata": {
    "collapsed": false
   },
   "outputs": [],
   "source": [
    "accuracy_index = knn_accuracy.index(max(knn_accuracy))\n",
    "precision_index = knn_precision.index(max(knn_precision))\n",
    "\n",
    "plt.plot(range(1, 20), knn_accuracy, label='accuracy')\n",
    "plt.title(\"Accuracy for different values of k\")\n",
    "plt.xlabel(\"k\")\n",
    "plt.ylabel(\"accuracy\")\n",
    "plt.show()"
   ]
  },
  {
   "cell_type": "code",
   "execution_count": 1,
   "metadata": {
    "collapsed": true
   },
   "outputs": [],
   "source": [
    "# LDA\n",
    "#\n",
    "# variables:\n",
    "#\n",
    "#\n",
    "# output metrics:\n",
    "# accuracy score\n",
    "#\n"
   ]
  },
  {
   "cell_type": "code",
   "execution_count": null,
   "metadata": {
    "collapsed": true
   },
   "outputs": [],
   "source": []
  }
 ],
 "metadata": {
  "kernelspec": {
   "display_name": "Python 3",
   "language": "python",
   "name": "python3"
  },
  "language_info": {
   "codemirror_mode": {
    "name": "ipython",
    "version": 3
   },
   "file_extension": ".py",
   "mimetype": "text/x-python",
   "name": "python",
   "nbconvert_exporter": "python",
   "pygments_lexer": "ipython3",
   "version": "3.5.0"
  }
 },
 "nbformat": 4,
 "nbformat_minor": 0
}
