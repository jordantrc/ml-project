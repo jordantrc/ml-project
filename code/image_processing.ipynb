{
 "cells": [
  {
   "cell_type": "code",
   "execution_count": 1,
   "metadata": {
    "collapsed": true
   },
   "outputs": [],
   "source": [
    "# imports and functions\n",
    "import csv\n",
    "import os\n",
    "from PIL import Image\n",
    "\n",
    "IMAGE_SIZE = (32, 32)\n",
    "labels = ['ocean', 'ship', 'sky']\n",
    "\n",
    "def normalize_rgb(r, g, b):\n",
    "    \"\"\"takes an input between 1 and 255 and returns a \n",
    "    value between 0 and 1\"\"\"\n",
    "    return (r/255.0, g/255.0, b/255.0)\n",
    "\n",
    "def extract_features_labels(file_list):\n",
    "    \"\"\"trains the classifier given a set of files\"\"\"\n",
    "    # X contains the features, Y contains the classes\n",
    "    X = []\n",
    "    Y = []\n",
    "    \n",
    "    # train on the file_list\n",
    "    for file in file_list:\n",
    "        # metadata\n",
    "        if file[0] != \".\":\n",
    "            label, dataset_name, dataset_index = file.split(\"_\") # label_dataset_index.extension\n",
    "            dataset_index, extension = dataset_index.split(\".\") # index.extension\n",
    "            #print(\"%s %s %s\" % (classification, dataset_name, dataset_index))\n",
    "            # set the label\n",
    "            Y.append(label)\n",
    "\n",
    "            path = image_dir + \"/\" + file\n",
    "            im = Image.open(path)\n",
    "            im = im.resize(IMAGE_SIZE, resample=Image.LANCZOS)\n",
    "\n",
    "            # get the rgb color components of all pixels\n",
    "            image_features = []\n",
    "            for x in range(0,IMAGE_SIZE[0]):\n",
    "                for y in range(0,IMAGE_SIZE[1]):\n",
    "                    r, g, b = im.getpixel((x, y))\n",
    "                    r, g, b = normalize_rgb(r, g, b)\n",
    "                    image_features.extend([r, g, b])\n",
    "            X.append(image_features)\n",
    "\n",
    "            #print(\"%s %s %s\" % (r, g, b))\n",
    "            new_name = (\"%s_%s_%s.%s\" % (label, dataset_name, dataset_index, \"png\"))\n",
    "            im.save(tmp_dir + \"/\" + new_name, \"PNG\")\n",
    "    \n",
    "    return X, Y"
   ]
  },
  {
   "cell_type": "code",
   "execution_count": 2,
   "metadata": {
    "collapsed": false
   },
   "outputs": [
    {
     "name": "stdout",
     "output_type": "stream",
     "text": [
      "cwd = C:\\Users\\jchadwick\\Documents\\ml-project\\code\n",
      "image_dir = ../images/combined\n",
      "tmp_dir = ../images/tmp\n"
     ]
    }
   ],
   "source": [
    "# directory structure\n",
    "cwd = os.getcwd()\n",
    "image_dir = \"../images/combined\"\n",
    "tmp_dir = \"../images/tmp\"\n",
    "print(\"cwd = \" + cwd)\n",
    "print(\"image_dir = \" + image_dir)\n",
    "print(\"tmp_dir = \" + tmp_dir)\n",
    "\n",
    "if not os.path.exists(tmp_dir):\n",
    "    os.mkdir(tmp_dir)"
   ]
  },
  {
   "cell_type": "code",
   "execution_count": 3,
   "metadata": {
    "collapsed": false
   },
   "outputs": [
    {
     "name": "stdout",
     "output_type": "stream",
     "text": [
      "3347 observations\n",
      "Label counts:\n",
      "ocean - 504\n",
      "ship - 2347\n",
      "sky - 496\n"
     ]
    }
   ],
   "source": [
    "# process images, create labels and features\n",
    "files = os.listdir(image_dir)\n",
    "\n",
    "X, y = extract_features_labels(files)\n",
    "\n",
    "# some stats about the dataset\n",
    "print(\"%s observations\" % (len(y)))\n",
    "assert len(X) == len(y)\n",
    "\n",
    "print(\"Label counts:\")\n",
    "for label in labels:\n",
    "    print(\"%s - %s\" % (label, y.count(label)))"
   ]
  },
  {
   "cell_type": "code",
   "execution_count": 4,
   "metadata": {
    "collapsed": false
   },
   "outputs": [],
   "source": [
    "# export to data.csv\n",
    "with open('data.csv', 'w') as csvfile:\n",
    "    data_writer = csv.writer(csvfile, dialect='excel')\n",
    "    for row_num, label in enumerate(y):\n",
    "        row = [label]\n",
    "        row.extend(X[row_num])\n",
    "        data_writer.writerow(row)"
   ]
  },
  {
   "cell_type": "code",
   "execution_count": null,
   "metadata": {
    "collapsed": true
   },
   "outputs": [],
   "source": []
  }
 ],
 "metadata": {
  "kernelspec": {
   "display_name": "Python 3",
   "language": "python",
   "name": "python3"
  },
  "language_info": {
   "codemirror_mode": {
    "name": "ipython",
    "version": 3
   },
   "file_extension": ".py",
   "mimetype": "text/x-python",
   "name": "python",
   "nbconvert_exporter": "python",
   "pygments_lexer": "ipython3",
   "version": "3.6.0"
  }
 },
 "nbformat": 4,
 "nbformat_minor": 0
}
