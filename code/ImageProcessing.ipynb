{
 "cells": [
  {
   "cell_type": "code",
   "execution_count": 1,
   "metadata": {
    "collapsed": false
   },
   "outputs": [],
   "source": [
    "# necessary libraries, functions, and constants\n",
    "import os\n",
    "from PIL import Image\n",
    "import pandas as pd\n",
    "\n",
    "IMAGE_SIZE = (32, 32)\n",
    "\n",
    "def normalize_rgb(r, g, b):\n",
    "    \"\"\"takes an input between 1 and 255 and returns a \n",
    "    value between 0 and 1\"\"\"\n",
    "    return (r/255.0, g/255.0, b/255.0)"
   ]
  },
  {
   "cell_type": "code",
   "execution_count": 4,
   "metadata": {
    "collapsed": false
   },
   "outputs": [
    {
     "name": "stdout",
     "output_type": "stream",
     "text": [
      "cwd = /Users/jordan/Documents/ml-project/code\n",
      "image_dir = ../images/combined\n",
      "tmp_dir = ../images/tmp\n"
     ]
    }
   ],
   "source": [
    "# directory structure\n",
    "cwd = os.getcwd()\n",
    "image_dir = \"../images/combined\"\n",
    "tmp_dir = \"../images/tmp\"\n",
    "print(\"cwd = \" + cwd)\n",
    "print(\"image_dir = \" + image_dir)\n",
    "print(\"tmp_dir = \" + tmp_dir)\n",
    "\n",
    "if not os.path.exists(tmp_dir):\n",
    "    os.mkdir(tmp_dir)"
   ]
  },
  {
   "cell_type": "code",
   "execution_count": 5,
   "metadata": {
    "collapsed": true
   },
   "outputs": [],
   "source": [
    "# create the data structure\n",
    "# structure is:\n",
    "# index, classification, features x_y_r, x_y_g, x_y_b (32x32x3 = 3072)\n",
    "image_data = pd.DataFrame()"
   ]
  },
  {
   "cell_type": "code",
   "execution_count": 7,
   "metadata": {
    "collapsed": false
   },
   "outputs": [
    {
     "name": "stdout",
     "output_type": "stream",
     "text": [
      "ship vais 0\n",
      "0.3215686274509804 0.32941176470588235 0.41568627450980394\n",
      "ship vais 1\n",
      "0.14901960784313725 0.21176470588235294 0.3254901960784314\n",
      "ship vais 10\n",
      "0.4666666666666667 0.596078431372549 0.8196078431372549\n",
      "ship vais 100\n",
      "0.03137254901960784 0.03529411764705882 0.054901960784313725\n",
      "ship vais 1000\n",
      "0.10588235294117647 0.16862745098039217 0.28627450980392155\n"
     ]
    }
   ],
   "source": [
    "# start processing images\n",
    "files = os.listdir(image_dir)\n",
    "files[:5]\n",
    "\n",
    "for file in files[:5]:\n",
    "    # metadata\n",
    "    classification, dataset_name, dataset_index = file.split(\"_\")\n",
    "    dataset_index, _ = dataset_index.split(\".\")\n",
    "    print(\"%s %s %s\" % (classification, dataset_name, dataset_index))\n",
    "    \n",
    "    path = image_dir + \"/\" + file\n",
    "    im = Image.open(path)\n",
    "    im = im.resize(IMAGE_SIZE, resample=Image.LANCZOS)\n",
    "    \n",
    "    # get the rgb color components of all pixels\n",
    "    image_df = pd.DataFrame()\n",
    "    for x in range(0,32):\n",
    "        for y in range(0,32):\n",
    "            r, g, b = im.getpixel((x, y))\n",
    "            r, g, b = normalize_rgb(r, g, b)\n",
    "            \n",
    "    print(\"%s %s %s\" % (r, g, b))\n",
    "    \n",
    "    im.save(tmp_dir + \"/\" + file, \"PNG\")"
   ]
  },
  {
   "cell_type": "code",
   "execution_count": null,
   "metadata": {
    "collapsed": true
   },
   "outputs": [],
   "source": []
  }
 ],
 "metadata": {
  "kernelspec": {
   "display_name": "Python 3",
   "language": "python",
   "name": "python3"
  },
  "language_info": {
   "codemirror_mode": {
    "name": "ipython",
    "version": 3
   },
   "file_extension": ".py",
   "mimetype": "text/x-python",
   "name": "python",
   "nbconvert_exporter": "python",
   "pygments_lexer": "ipython3",
   "version": "3.5.0"
  }
 },
 "nbformat": 4,
 "nbformat_minor": 0
}
