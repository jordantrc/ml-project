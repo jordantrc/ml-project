{
 "cells": [
  {
   "cell_type": "code",
   "execution_count": 14,
   "metadata": {
    "collapsed": false
   },
   "outputs": [],
   "source": [
    "# necessary libraries, functions, and constants\n",
    "import os\n",
    "import numpy as np\n",
    "from PIL import Image\n",
    "from sklearn import neighbors\n",
    "\n",
    "IMAGE_SIZE = (32, 32)\n",
    "\n",
    "def normalize_rgb(r, g, b):\n",
    "    \"\"\"takes an input between 1 and 255 and returns a \n",
    "    value between 0 and 1\"\"\"\n",
    "    return (r/255.0, g/255.0, b/255.0)"
   ]
  },
  {
   "cell_type": "code",
   "execution_count": 15,
   "metadata": {
    "collapsed": false
   },
   "outputs": [
    {
     "name": "stdout",
     "output_type": "stream",
     "text": [
      "cwd = /Users/jordan/Documents/ml-project/code\n",
      "image_dir = ../images/combined\n",
      "tmp_dir = ../images/tmp\n"
     ]
    }
   ],
   "source": [
    "# directory structure\n",
    "cwd = os.getcwd()\n",
    "image_dir = \"../images/combined\"\n",
    "tmp_dir = \"../images/tmp\"\n",
    "print(\"cwd = \" + cwd)\n",
    "print(\"image_dir = \" + image_dir)\n",
    "print(\"tmp_dir = \" + tmp_dir)\n",
    "\n",
    "if not os.path.exists(tmp_dir):\n",
    "    os.mkdir(tmp_dir)"
   ]
  },
  {
   "cell_type": "code",
   "execution_count": 27,
   "metadata": {
    "collapsed": false
   },
   "outputs": [],
   "source": [
    "# setup nearest neighbors data structures\n",
    "# X contains the features, Y contains the classes\n",
    "X = []\n",
    "Y = []\n",
    "\n",
    "# start processing images\n",
    "files = os.listdir(image_dir)\n",
    "\n",
    "# training set is the first five files\n",
    "for file in files[:7]:\n",
    "    # metadata\n",
    "    classification, dataset_name, dataset_index = file.split(\"_\") # class_dataset_index.extension\n",
    "    dataset_index, _ = dataset_index.split(\".\") # index.extension\n",
    "    #print(\"%s %s %s\" % (classification, dataset_name, dataset_index))\n",
    "    \n",
    "    # set the classifier\n",
    "    Y.append(classification)\n",
    "    \n",
    "    path = image_dir + \"/\" + file\n",
    "    im = Image.open(path)\n",
    "    im = im.resize(IMAGE_SIZE, resample=Image.LANCZOS)\n",
    "    \n",
    "    # get the rgb color components of all pixels\n",
    "    image_features = []\n",
    "    for x in range(0,IMAGE_SIZE[0]):\n",
    "        for y in range(0,IMAGE_SIZE[1]):\n",
    "            r, g, b = im.getpixel((x, y))\n",
    "            r, g, b = normalize_rgb(r, g, b)\n",
    "            image_features.extend([r, g, b])\n",
    "    X.append(image_features)\n",
    "    \n",
    "    #print(\"%s %s %s\" % (r, g, b))\n",
    "    \n",
    "    im.save(tmp_dir + \"/\" + file, \"PNG\")"
   ]
  },
  {
   "cell_type": "code",
   "execution_count": 30,
   "metadata": {
    "collapsed": false
   },
   "outputs": [
    {
     "name": "stderr",
     "output_type": "stream",
     "text": [
      "/usr/local/lib/python3.5/site-packages/sklearn/utils/validation.py:395: DeprecationWarning: Passing 1d arrays as data is deprecated in 0.17 and will raise ValueError in 0.19. Reshape your data either using X.reshape(-1, 1) if your data has a single feature or X.reshape(1, -1) if it contains a single sample.\n",
      "  DeprecationWarning)\n"
     ]
    },
    {
     "data": {
      "text/plain": [
       "array(['ship'], \n",
       "      dtype='<U4')"
      ]
     },
     "execution_count": 30,
     "metadata": {},
     "output_type": "execute_result"
    }
   ],
   "source": [
    "# create the classifier\n",
    "n_neighbors = 5\n",
    "classifier = neighbors.KNeighborsClassifier(n_neighbors, 'distance')\n",
    "classifier.fit(X[:5], Y[:5])\n",
    "\n",
    "# predict the test set\n",
    "classifier.predict(X[6])\n"
   ]
  },
  {
   "cell_type": "code",
   "execution_count": null,
   "metadata": {
    "collapsed": true
   },
   "outputs": [],
   "source": []
  }
 ],
 "metadata": {
  "kernelspec": {
   "display_name": "Python 3",
   "language": "python",
   "name": "python3"
  },
  "language_info": {
   "codemirror_mode": {
    "name": "ipython",
    "version": 3
   },
   "file_extension": ".py",
   "mimetype": "text/x-python",
   "name": "python",
   "nbconvert_exporter": "python",
   "pygments_lexer": "ipython3",
   "version": "3.5.0"
  }
 },
 "nbformat": 4,
 "nbformat_minor": 0
}
